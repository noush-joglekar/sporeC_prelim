{
 "cells": [
  {
   "cell_type": "code",
   "execution_count": 1,
   "metadata": {},
   "outputs": [
    {
     "data": {
      "text/plain": [
       "'1.0.0'"
      ]
     },
     "execution_count": 1,
     "metadata": {},
     "output_type": "execute_result"
    }
   ],
   "source": [
    "# Setup\n",
    "import sys\n",
    "import os\n",
    "import higlass as hg\n",
    "\n",
    "hg.__version__"
   ]
  },
  {
   "cell_type": "code",
   "execution_count": 86,
   "metadata": {},
   "outputs": [],
   "source": [
    "## remote data\n",
    "tileset1 = hg.remote(\n",
    "    uid=\"CQMd6V_cRw6iCI_-Unl3PQ\",\n",
    "    server=\"https://higlass.io/api/v1/\",\n",
    "    name=\"Rao et al. (2014) GM12878 MboI (allreps) 1kb\",\n",
    ")\n",
    "\n",
    "## local data\n",
    "tileset2 = hg.cooler(\"../../../2023_03_01_v0_dataGathering/v0_poreC_explore/100db.mcool\") #::/resolutions/1000\n"
   ]
  },
  {
   "cell_type": "code",
   "execution_count": 96,
   "metadata": {},
   "outputs": [
    {
     "data": {
      "text/html": [
       "\n",
       "<!DOCTYPE html>\n",
       "<html>\n",
       "  <head>\n",
       "    <link rel=\"stylesheet\" href=\"https://esm.sh/higlass@1.12/dist/hglib.css\">\n",
       "    <script src=\"https://unpkg.com/requirejs-toggle\"></script>\n",
       "    \n",
       "    <script src=\"https://unpkg.com/requirejs-toggle\"></script>\n",
       "  </head>\n",
       "  <body>\n",
       "    <div id=\"jupyter-hg-13764e38338f432c8aa5b6088bc5c900\"></div>\n",
       "  </body>\n",
       "  <script type=\"module\">\n",
       "    import hglib from \"https://esm.sh/higlass@1.12?deps=react@17,react-dom@17,pixi.js@6\";\n",
       "    hglib.viewer(\n",
       "      document.getElementById('jupyter-hg-13764e38338f432c8aa5b6088bc5c900'),\n",
       "      {\"editable\": true, \"viewEditable\": true, \"tracksEditable\": true, \"views\": [{\"layout\": {\"x\": 0, \"y\": 0, \"w\": 12, \"h\": 6}, \"tracks\": {\"center\": [{\"tilesetUid\": \"a4c0711a503f8af8c2fb9e1088fc5b98\", \"server\": \"http://localhost:37013/tilesets/api/v1/\", \"type\": \"heatmap\", \"uid\": \"769e34b2-3382-4bcd-be4f-8ede809bc138\"}]}, \"uid\": \"4c1cd395-fcae-4bcf-af55-86901b18cc54\", \"zoomLimits\": [1, null]}]},\n",
       "    );\n",
       "    </script>\n",
       "</html>"
      ],
      "text/plain": [
       "View(layout=Layout(x=0, y=0, w=12, h=6, moved=None, static=None), tracks=Tracks[TrackT](left=None, right=None, top=None, bottom=None, center=[HeatmapTrack(tilesetUid='a4c0711a503f8af8c2fb9e1088fc5b98', server='http://localhost:37013/tilesets/api/v1/', type='heatmap', uid='769e34b2-3382-4bcd-be4f-8ede809bc138', width=None, height=None, options=None, data=None, position=None, transforms=None)], whole=None, gallery=None), uid='4c1cd395-fcae-4bcf-af55-86901b18cc54', autocompleteSource=None, chromInfoPath=None, genomePositionSearchBox=None, genomePositionSearchBoxVisible=None, initialXDomain=None, initialYDomain=None, overlays=None, selectionView=None, zoomFixed=None, zoomLimits=(1, None))"
      ]
     },
     "execution_count": 96,
     "metadata": {},
     "output_type": "execute_result"
    }
   ],
   "source": [
    "t = tileset2.track('heatmap',server_port = 8890)\n",
    "\n",
    "hg.view(t)"
   ]
  },
  {
   "cell_type": "code",
   "execution_count": 24,
   "metadata": {},
   "outputs": [
    {
     "data": {
      "text/html": [
       "\n",
       "<!DOCTYPE html>\n",
       "<html>\n",
       "  <head>\n",
       "    <link rel=\"stylesheet\" href=\"https://esm.sh/higlass@1.12/dist/hglib.css\">\n",
       "    <script src=\"https://unpkg.com/requirejs-toggle\"></script>\n",
       "    \n",
       "    <script src=\"https://unpkg.com/requirejs-toggle\"></script>\n",
       "  </head>\n",
       "  <body>\n",
       "    <div id=\"jupyter-hg-7c9f93800f6f40d58224485da22a6535\"></div>\n",
       "  </body>\n",
       "  <script type=\"module\">\n",
       "    import hglib from \"https://esm.sh/higlass@1.12?deps=react@17,react-dom@17,pixi.js@6\";\n",
       "    hglib.viewer(\n",
       "      document.getElementById('jupyter-hg-7c9f93800f6f40d58224485da22a6535'),\n",
       "      {\"editable\": true, \"viewEditable\": true, \"tracksEditable\": true, \"views\": [{\"layout\": {\"x\": 0, \"y\": 0, \"w\": 6, \"h\": 6}, \"tracks\": {\"center\": [{\"tilesetUid\": \"CQMd6V_cRw6iCI_-Unl3PQ\", \"server\": \"https://higlass.io/api/v1/\", \"type\": \"heatmap\", \"uid\": \"88ec9414-97eb-4ed2-9154-d3f3e4920a2f\", \"height\": 300, \"options\": {\"name\": \"Rao et al. (2014) GM12878 MboI (allreps) 1kb\"}}]}, \"uid\": \"778016de-8ff0-47f0-a87c-dd6bc0de208e\", \"zoomLimits\": [1.0, null]}, {\"layout\": {\"x\": 6, \"y\": 0, \"w\": 6, \"h\": 6}, \"tracks\": {\"center\": [{\"tilesetUid\": \"ce00f2a371dee5f638f97a81198f98af\", \"server\": \"http://localhost:37013/tilesets/api/v1/\", \"type\": \"heatmap\", \"uid\": \"18bbe068-1a93-4034-9806-19c291fb4a0b\", \"height\": 300}]}, \"uid\": \"5e53923f-609b-4994-bc33-2549d7cb97e7\", \"zoomLimits\": [1.0, null]}], \"zoomLocks\": {\"locksByViewUid\": {\"778016de-8ff0-47f0-a87c-dd6bc0de208e\": \"2e2db0b6-909d-4aa2-b99d-f88709a72bd8\", \"5e53923f-609b-4994-bc33-2549d7cb97e7\": \"2e2db0b6-909d-4aa2-b99d-f88709a72bd8\"}, \"locksDict\": {\"2e2db0b6-909d-4aa2-b99d-f88709a72bd8\": {\"uid\": \"2e2db0b6-909d-4aa2-b99d-f88709a72bd8\", \"778016de-8ff0-47f0-a87c-dd6bc0de208e\": [1.0, 1.0, 1.0], \"5e53923f-609b-4994-bc33-2549d7cb97e7\": [1.0, 1.0, 1.0]}}}, \"locationLocks\": {\"locksByViewUid\": {\"778016de-8ff0-47f0-a87c-dd6bc0de208e\": \"2e2db0b6-909d-4aa2-b99d-f88709a72bd8\", \"5e53923f-609b-4994-bc33-2549d7cb97e7\": \"2e2db0b6-909d-4aa2-b99d-f88709a72bd8\"}, \"locksDict\": {\"2e2db0b6-909d-4aa2-b99d-f88709a72bd8\": {\"uid\": \"2e2db0b6-909d-4aa2-b99d-f88709a72bd8\", \"778016de-8ff0-47f0-a87c-dd6bc0de208e\": [1.0, 1.0, 1.0], \"5e53923f-609b-4994-bc33-2549d7cb97e7\": [1.0, 1.0, 1.0]}}}, \"valueScaleLocks\": {\"locksByViewUid\": {}, \"locksDict\": {}}},\n",
       "    );\n",
       "    </script>\n",
       "</html>"
      ],
      "text/plain": [
       "Viewconf(editable=True, viewEditable=True, tracksEditable=True, zoomFixed=None, compactLayout=None, exportViewUrl=None, trackSourceServers=None, views=[View(layout=Layout(x=0, y=0, w=6, h=6, moved=None, static=None), tracks=Tracks[TrackT](left=None, right=None, top=None, bottom=None, center=[HeatmapTrack(tilesetUid='CQMd6V_cRw6iCI_-Unl3PQ', server='https://higlass.io/api/v1/', type='heatmap', uid='88ec9414-97eb-4ed2-9154-d3f3e4920a2f', width=None, height=300, options={'name': 'Rao et al. (2014) GM12878 MboI (allreps) 1kb'}, data=None, position=None, transforms=None)], whole=None, gallery=None), uid='778016de-8ff0-47f0-a87c-dd6bc0de208e', autocompleteSource=None, chromInfoPath=None, genomePositionSearchBox=None, genomePositionSearchBoxVisible=None, initialXDomain=None, initialYDomain=None, overlays=None, selectionView=None, zoomFixed=None, zoomLimits=(1.0, None)), View(layout=Layout(x=6, y=0, w=6, h=6, moved=None, static=None), tracks=Tracks[TrackT](left=None, right=None, top=None, bottom=None, center=[HeatmapTrack(tilesetUid='ce00f2a371dee5f638f97a81198f98af', server='http://localhost:37013/tilesets/api/v1/', type='heatmap', uid='18bbe068-1a93-4034-9806-19c291fb4a0b', width=None, height=300, options=None, data=None, position=None, transforms=None)], whole=None, gallery=None), uid='5e53923f-609b-4994-bc33-2549d7cb97e7', autocompleteSource=None, chromInfoPath=None, genomePositionSearchBox=None, genomePositionSearchBoxVisible=None, initialXDomain=None, initialYDomain=None, overlays=None, selectionView=None, zoomFixed=None, zoomLimits=(1.0, None))], zoomLocks=ZoomLocks(locksByViewUid={'778016de-8ff0-47f0-a87c-dd6bc0de208e': '2e2db0b6-909d-4aa2-b99d-f88709a72bd8', '5e53923f-609b-4994-bc33-2549d7cb97e7': '2e2db0b6-909d-4aa2-b99d-f88709a72bd8'}, locksDict={'2e2db0b6-909d-4aa2-b99d-f88709a72bd8': Lock(uid='2e2db0b6-909d-4aa2-b99d-f88709a72bd8', 778016de-8ff0-47f0-a87c-dd6bc0de208e=(1.0, 1.0, 1.0), 5e53923f-609b-4994-bc33-2549d7cb97e7=(1.0, 1.0, 1.0))}), locationLocks=LocationLocks(locksByViewUid={'778016de-8ff0-47f0-a87c-dd6bc0de208e': '2e2db0b6-909d-4aa2-b99d-f88709a72bd8', '5e53923f-609b-4994-bc33-2549d7cb97e7': '2e2db0b6-909d-4aa2-b99d-f88709a72bd8'}, locksDict={'2e2db0b6-909d-4aa2-b99d-f88709a72bd8': Lock(uid='2e2db0b6-909d-4aa2-b99d-f88709a72bd8', 778016de-8ff0-47f0-a87c-dd6bc0de208e=(1.0, 1.0, 1.0), 5e53923f-609b-4994-bc33-2549d7cb97e7=(1.0, 1.0, 1.0))}), valueScaleLocks=ValueScaleLocks(locksByViewUid={}, locksDict={}), chromInfoPath=None)"
      ]
     },
     "execution_count": 24,
     "metadata": {},
     "output_type": "execute_result"
    }
   ],
   "source": [
    "# Create a `hg.HeatmapTrack` for each tileset\n",
    "track1 = tileset1.track(\"heatmap\",height = 300)\n",
    "track2 = tileset2.track(\"heatmap\",height = 300)\n",
    "\n",
    "# Create two independent `hg.View`s, one for each heatmap\n",
    "view1 = hg.view(track1, width=6)\n",
    "view2 = hg.view(track2, width=6)\n",
    "\n",
    "# Lock zoom & location for each `View`\n",
    "view_lock = hg.lock(view1, view2)\n",
    "\n",
    "# Concatenate views horizontally and apply synchronization lock\n",
    "(view1 | view2).locks(view_lock)"
   ]
  },
  {
   "cell_type": "code",
   "execution_count": 16,
   "metadata": {},
   "outputs": [
    {
     "data": {
      "text/html": [
       "\n",
       "<!DOCTYPE html>\n",
       "<html>\n",
       "  <head>\n",
       "    <link rel=\"stylesheet\" href=\"https://esm.sh/higlass@1.12/dist/hglib.css\">\n",
       "    <script src=\"https://unpkg.com/requirejs-toggle\"></script>\n",
       "    \n",
       "    <script src=\"https://unpkg.com/requirejs-toggle\"></script>\n",
       "  </head>\n",
       "  <body>\n",
       "    <div id=\"jupyter-hg-e3e36e79c71c44fc910709a86216f3d3\"></div>\n",
       "  </body>\n",
       "  <script type=\"module\">\n",
       "    import hglib from \"https://esm.sh/higlass@1.12?deps=react@17,react-dom@17,pixi.js@6\";\n",
       "    hglib.viewer(\n",
       "      document.getElementById('jupyter-hg-e3e36e79c71c44fc910709a86216f3d3'),\n",
       "      {\"editable\": true, \"viewEditable\": true, \"tracksEditable\": true, \"views\": [{\"layout\": {\"x\": 0, \"y\": 0, \"w\": 4, \"h\": 6}, \"tracks\": {\"center\": [{\"tilesetUid\": \"CQMd6V_cRw6iCI_-Unl3PQ\", \"server\": \"https://higlass.io/api/v1\", \"type\": \"heatmap\", \"uid\": \"f6463961-85ff-430c-b00c-aa2f5be4585d\", \"height\": 300, \"options\": {\"name\": \"Rao et al. (2014) GM12878 MboI (allreps) 1kb\"}}]}, \"uid\": \"2f2248fa-90cd-4344-9702-f79fc4a6a801\", \"initialXDomain\": [70000000.0, 80000000.0], \"zoomLimits\": [1.0, null]}, {\"layout\": {\"x\": 4, \"y\": 0, \"w\": 4, \"h\": 6}, \"tracks\": {\"center\": [{\"type\": \"heatmap\", \"uid\": \"ea25b9b6-12ea-4662-ba84-3f87e8f3de70\", \"height\": 300, \"options\": {\"name\": \"Rao et al. (2014) GM12878 MboI (allreps) 1kb\", \"colorRange\": [\"blue\", \"white\", \"red\"], \"valueScaleMin\": 0.1, \"valueScaleMax\": 10}, \"data\": {\"type\": \"divided\", \"children\": [{\"tilesetUid\": \"CQMd6V_cRw6iCI_-Unl3PQ\", \"server\": \"https://higlass.io/api/v1\"}, {\"tilesetUid\": \"QvdMEvccQuOxKTEjrVL3wA\", \"server\": \"https://higlass.io/api/v1\"}]}}]}, \"uid\": \"a3587d72-5354-4ebf-aee2-f39b42caf5e6\", \"initialXDomain\": [70000000.0, 80000000.0], \"zoomLimits\": [1.0, null]}, {\"layout\": {\"x\": 8, \"y\": 0, \"w\": 4, \"h\": 6}, \"tracks\": {\"center\": [{\"tilesetUid\": \"QvdMEvccQuOxKTEjrVL3wA\", \"server\": \"https://higlass.io/api/v1\", \"type\": \"heatmap\", \"uid\": \"abf2c9d6-e431-4ff1-b56f-fd02d5d89d3d\", \"height\": 300, \"options\": {\"name\": \"Rao et al. (2014) K562 MboI (allreps) 1kb\"}}]}, \"uid\": \"d87528c8-c428-4a34-8627-e0eb49d11a6c\", \"initialXDomain\": [70000000.0, 80000000.0], \"zoomLimits\": [1.0, null]}], \"zoomLocks\": {\"locksByViewUid\": {\"2f2248fa-90cd-4344-9702-f79fc4a6a801\": \"7336c5d0-1819-4e67-87ed-ff28e5ae436e\", \"d87528c8-c428-4a34-8627-e0eb49d11a6c\": \"7336c5d0-1819-4e67-87ed-ff28e5ae436e\", \"a3587d72-5354-4ebf-aee2-f39b42caf5e6\": \"7336c5d0-1819-4e67-87ed-ff28e5ae436e\"}, \"locksDict\": {\"7336c5d0-1819-4e67-87ed-ff28e5ae436e\": {\"uid\": \"7336c5d0-1819-4e67-87ed-ff28e5ae436e\", \"2f2248fa-90cd-4344-9702-f79fc4a6a801\": [1.0, 1.0, 1.0], \"d87528c8-c428-4a34-8627-e0eb49d11a6c\": [1.0, 1.0, 1.0], \"a3587d72-5354-4ebf-aee2-f39b42caf5e6\": [1.0, 1.0, 1.0]}}}, \"locationLocks\": {\"locksByViewUid\": {\"2f2248fa-90cd-4344-9702-f79fc4a6a801\": \"7336c5d0-1819-4e67-87ed-ff28e5ae436e\", \"d87528c8-c428-4a34-8627-e0eb49d11a6c\": \"7336c5d0-1819-4e67-87ed-ff28e5ae436e\", \"a3587d72-5354-4ebf-aee2-f39b42caf5e6\": \"7336c5d0-1819-4e67-87ed-ff28e5ae436e\"}, \"locksDict\": {\"7336c5d0-1819-4e67-87ed-ff28e5ae436e\": {\"uid\": \"7336c5d0-1819-4e67-87ed-ff28e5ae436e\", \"2f2248fa-90cd-4344-9702-f79fc4a6a801\": [1.0, 1.0, 1.0], \"d87528c8-c428-4a34-8627-e0eb49d11a6c\": [1.0, 1.0, 1.0], \"a3587d72-5354-4ebf-aee2-f39b42caf5e6\": [1.0, 1.0, 1.0]}}}, \"valueScaleLocks\": {\"locksByViewUid\": {}, \"locksDict\": {}}},\n",
       "    );\n",
       "    </script>\n",
       "</html>"
      ],
      "text/plain": [
       "Viewconf(editable=True, viewEditable=True, tracksEditable=True, zoomFixed=None, compactLayout=None, exportViewUrl=None, trackSourceServers=None, views=[View(layout=Layout(x=0, y=0, w=4, h=6, moved=None, static=None), tracks=Tracks[TrackT](left=None, right=None, top=None, bottom=None, center=[HeatmapTrack(tilesetUid='CQMd6V_cRw6iCI_-Unl3PQ', server='https://higlass.io/api/v1', type='heatmap', uid='f6463961-85ff-430c-b00c-aa2f5be4585d', width=None, height=300, options={'name': 'Rao et al. (2014) GM12878 MboI (allreps) 1kb'}, data=None, position=None, transforms=None)], whole=None, gallery=None), uid='2f2248fa-90cd-4344-9702-f79fc4a6a801', autocompleteSource=None, chromInfoPath=None, genomePositionSearchBox=None, genomePositionSearchBoxVisible=None, initialXDomain=(70000000.0, 80000000.0), initialYDomain=None, overlays=None, selectionView=None, zoomFixed=None, zoomLimits=(1.0, None)), View(layout=Layout(x=4, y=0, w=4, h=6, moved=None, static=None), tracks=Tracks[TrackT](left=None, right=None, top=None, bottom=None, center=[HeatmapTrack(tilesetUid=None, server=None, type='heatmap', uid='ea25b9b6-12ea-4662-ba84-3f87e8f3de70', width=None, height=300, options={'name': 'Rao et al. (2014) GM12878 MboI (allreps) 1kb', 'colorRange': ['blue', 'white', 'red'], 'valueScaleMin': 0.1, 'valueScaleMax': 10}, data=Data(type='divided', url=None, server=None, filetype=None, children=[{'tilesetUid': 'CQMd6V_cRw6iCI_-Unl3PQ', 'server': 'https://higlass.io/api/v1'}, {'tilesetUid': 'QvdMEvccQuOxKTEjrVL3wA', 'server': 'https://higlass.io/api/v1'}], tilesetInfo=None, tiles=None), position=None, transforms=None)], whole=None, gallery=None), uid='a3587d72-5354-4ebf-aee2-f39b42caf5e6', autocompleteSource=None, chromInfoPath=None, genomePositionSearchBox=None, genomePositionSearchBoxVisible=None, initialXDomain=(70000000.0, 80000000.0), initialYDomain=None, overlays=None, selectionView=None, zoomFixed=None, zoomLimits=(1.0, None)), View(layout=Layout(x=8, y=0, w=4, h=6, moved=None, static=None), tracks=Tracks[TrackT](left=None, right=None, top=None, bottom=None, center=[HeatmapTrack(tilesetUid='QvdMEvccQuOxKTEjrVL3wA', server='https://higlass.io/api/v1', type='heatmap', uid='abf2c9d6-e431-4ff1-b56f-fd02d5d89d3d', width=None, height=300, options={'name': 'Rao et al. (2014) K562 MboI (allreps) 1kb'}, data=None, position=None, transforms=None)], whole=None, gallery=None), uid='d87528c8-c428-4a34-8627-e0eb49d11a6c', autocompleteSource=None, chromInfoPath=None, genomePositionSearchBox=None, genomePositionSearchBoxVisible=None, initialXDomain=(70000000.0, 80000000.0), initialYDomain=None, overlays=None, selectionView=None, zoomFixed=None, zoomLimits=(1.0, None))], zoomLocks=ZoomLocks(locksByViewUid={'2f2248fa-90cd-4344-9702-f79fc4a6a801': '7336c5d0-1819-4e67-87ed-ff28e5ae436e', 'd87528c8-c428-4a34-8627-e0eb49d11a6c': '7336c5d0-1819-4e67-87ed-ff28e5ae436e', 'a3587d72-5354-4ebf-aee2-f39b42caf5e6': '7336c5d0-1819-4e67-87ed-ff28e5ae436e'}, locksDict={'7336c5d0-1819-4e67-87ed-ff28e5ae436e': Lock(uid='7336c5d0-1819-4e67-87ed-ff28e5ae436e', 2f2248fa-90cd-4344-9702-f79fc4a6a801=(1.0, 1.0, 1.0), d87528c8-c428-4a34-8627-e0eb49d11a6c=(1.0, 1.0, 1.0), a3587d72-5354-4ebf-aee2-f39b42caf5e6=(1.0, 1.0, 1.0))}), locationLocks=LocationLocks(locksByViewUid={'2f2248fa-90cd-4344-9702-f79fc4a6a801': '7336c5d0-1819-4e67-87ed-ff28e5ae436e', 'd87528c8-c428-4a34-8627-e0eb49d11a6c': '7336c5d0-1819-4e67-87ed-ff28e5ae436e', 'a3587d72-5354-4ebf-aee2-f39b42caf5e6': '7336c5d0-1819-4e67-87ed-ff28e5ae436e'}, locksDict={'7336c5d0-1819-4e67-87ed-ff28e5ae436e': Lock(uid='7336c5d0-1819-4e67-87ed-ff28e5ae436e', 2f2248fa-90cd-4344-9702-f79fc4a6a801=(1.0, 1.0, 1.0), d87528c8-c428-4a34-8627-e0eb49d11a6c=(1.0, 1.0, 1.0), a3587d72-5354-4ebf-aee2-f39b42caf5e6=(1.0, 1.0, 1.0))}), valueScaleLocks=ValueScaleLocks(locksByViewUid={}, locksDict={}), chromInfoPath=None)"
      ]
     },
     "execution_count": 16,
     "metadata": {},
     "output_type": "execute_result"
    }
   ],
   "source": [
    "tset1 = hg.remote(\n",
    "    uid=\"CQMd6V_cRw6iCI_-Unl3PQ\",\n",
    "    name=\"Rao et al. (2014) GM12878 MboI (allreps) 1kb\",\n",
    ")\n",
    "\n",
    "tset2 = hg.remote(\n",
    "    uid=\"QvdMEvccQuOxKTEjrVL3wA\",\n",
    "    name=\"Rao et al. (2014) K562 MboI (allreps) 1kb\",\n",
    ")\n",
    "\n",
    "t1 = tset1.track(\"heatmap\", height=300)\n",
    "t2 = tset2.track(\"heatmap\", height=300)\n",
    "\n",
    "t3 = hg.divide(t1, t2).opts(\n",
    "    colorRange=[\"blue\", \"white\", \"red\"],\n",
    "    valueScaleMin=0.1,\n",
    "    valueScaleMax=10,\n",
    ")\n",
    "\n",
    "domain = (7e7, 8e7)\n",
    "v1 = hg.view(t1, width=4).domain(x=domain)\n",
    "v2 = hg.view(t2, width=4).domain(x=domain)\n",
    "v3 = hg.view(t3, width=4).domain(x=domain)\n",
    "\n",
    "(v1 | v3 | v2).locks(hg.lock(v1, v2, v3))"
   ]
  },
  {
   "cell_type": "code",
   "execution_count": 48,
   "metadata": {},
   "outputs": [],
   "source": [
    "import cooler\n",
    "import numpy as np\n",
    "c1 = cooler.Cooler(\"../../../2023_03_01_v0_dataGathering/v0_poreC_explore/100db.mcool::/resolutions/1000\")"
   ]
  },
  {
   "cell_type": "code",
   "execution_count": 26,
   "metadata": {},
   "outputs": [
    {
     "data": {
      "text/plain": [
       "['Cooler',\n",
       " '__builtins__',\n",
       " '__cached__',\n",
       " '__doc__',\n",
       " '__file__',\n",
       " '__format_version__',\n",
       " '__loader__',\n",
       " '__name__',\n",
       " '__package__',\n",
       " '__path__',\n",
       " '__spec__',\n",
       " '__version__',\n",
       " '_logging',\n",
       " '_version',\n",
       " 'annotate',\n",
       " 'api',\n",
       " 'balance',\n",
       " 'balance_cooler',\n",
       " 'binnify',\n",
       " 'coarsen_cooler',\n",
       " 'core',\n",
       " 'create',\n",
       " 'create_cooler',\n",
       " 'create_scool',\n",
       " 'fetch_chromsizes',\n",
       " 'fileops',\n",
       " 'get_verbosity_level',\n",
       " 'ice',\n",
       " 'merge_coolers',\n",
       " 'parallel',\n",
       " 'read_chromsizes',\n",
       " 'reduce',\n",
       " 'rename_chroms',\n",
       " 'set_verbosity_level',\n",
       " 'tools',\n",
       " 'util',\n",
       " 'zoomify_cooler']"
      ]
     },
     "execution_count": 26,
     "metadata": {},
     "output_type": "execute_result"
    }
   ],
   "source": [
    "dir(cooler)"
   ]
  },
  {
   "cell_type": "code",
   "execution_count": 78,
   "metadata": {},
   "outputs": [
    {
     "ename": "TypeError",
     "evalue": "'RangeSelector1D' object does not support item assignment",
     "output_type": "error",
     "traceback": [
      "\u001b[0;31m---------------------------------------------------------------------------\u001b[0m",
      "\u001b[0;31mTypeError\u001b[0m                                 Traceback (most recent call last)",
      "Cell \u001b[0;32mIn[78], line 6\u001b[0m\n\u001b[1;32m      1\u001b[0m \u001b[39m#cooler.balance_cooler(c1)\u001b[39;00m\n\u001b[1;32m      2\u001b[0m \u001b[39m#c1.bins()['weight'] = biases[0].tolist()\u001b[39;00m\n\u001b[1;32m      3\u001b[0m \u001b[39m#mat = c1.matrix(balance=biases[0].tolist, sparse=True)[1000:1050, 1000:1050]\u001b[39;00m\n\u001b[1;32m      4\u001b[0m \u001b[39m#arr = mat.toarray()\u001b[39;00m\n\u001b[0;32m----> 6\u001b[0m c1\u001b[39m.\u001b[39mbins()[\u001b[39m'\u001b[39m\u001b[39mweight\u001b[39m\u001b[39m'\u001b[39m] \u001b[39m=\u001b[39m biases\n",
      "\u001b[0;31mTypeError\u001b[0m: 'RangeSelector1D' object does not support item assignment"
     ]
    }
   ],
   "source": [
    "#cooler.balance_cooler(c1)\n",
    "#c1.bins()['weight'] = biases[0].tolist()\n",
    "#mat = c1.matrix(balance=biases[0].tolist, sparse=True)[1000:1050, 1000:1050]\n",
    "#arr = mat.toarray()\n",
    "\n",
    "c1.bins()['weight'] = biases"
   ]
  },
  {
   "cell_type": "code",
   "execution_count": 44,
   "metadata": {},
   "outputs": [
    {
     "name": "stderr",
     "output_type": "stream",
     "text": [
      "/tmp/ipykernel_5123/4292348178.py:3: RuntimeWarning: divide by zero encountered in log10\n",
      "  im = ax.matshow(np.log10(arr), cmap='YlOrRd')\n"
     ]
    },
    {
     "data": {
      "text/plain": [
       "<matplotlib.colorbar.Colorbar at 0x7fc6f2176440>"
      ]
     },
     "execution_count": 44,
     "metadata": {},
     "output_type": "execute_result"
    },
    {
     "data": {
      "image/png": "[encoded data removed]",
      "text/plain": [
       "<Figure size 1000x1000 with 2 Axes>"
      ]
     },
     "metadata": {},
     "output_type": "display_data"
    }
   ],
   "source": [
    "fig = plt.figure(figsize=(10, 10))\n",
    "ax = fig.add_subplot(111)\n",
    "im = ax.matshow(np.log10(arr), cmap='YlOrRd')\n",
    "fig.colorbar(im)"
   ]
  },
  {
   "cell_type": "code",
   "execution_count": null,
   "metadata": {},
   "outputs": [],
   "source": []
  }
 ],
 "metadata": {
  "kernelspec": {
   "display_name": "hic_v0",
   "language": "python",
   "name": "python3"
  },
  "language_info": {
   "codemirror_mode": {
    "name": "ipython",
    "version": 3
   },
   "file_extension": ".py",
   "mimetype": "text/x-python",
   "name": "python",
   "nbconvert_exporter": "python",
   "pygments_lexer": "ipython3",
   "version": "3.10.11"
  },
  "orig_nbformat": 4
 },
 "nbformat": 4,
 "nbformat_minor": 2
}
