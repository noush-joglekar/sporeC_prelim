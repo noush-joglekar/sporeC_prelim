{
 "cells": [
  {
   "cell_type": "code",
   "execution_count": 1,
   "metadata": {},
   "outputs": [
    {
     "data": {
      "text/plain": [
       "'1.0.0'"
      ]
     },
     "execution_count": 1,
     "metadata": {},
     "output_type": "execute_result"
    }
   ],
   "source": [
    "# Setup\n",
    "## Env hic_v0\n",
    "import sys\n",
    "import os\n",
    "import higlass as hg\n",
    "\n",
    "hg.__version__"
   ]
  },
  {
   "cell_type": "code",
   "execution_count": 6,
   "metadata": {},
   "outputs": [],
   "source": [
    "## remote data\n",
    "tileset1 = hg.remote(\n",
    "    uid=\"CQMd6V_cRw6iCI_-Unl3PQ\",\n",
    "    server=\"https://higlass.io/api/v1/\",\n",
    "    name=\"Rao et al. (2014) GM12878 MboI (allreps) 1kb\",\n",
    ")\n",
    "\n",
    "## local data\n",
    "tileset2 = hg.cooler(\"../../../2023_03_01_v0_dataGathering/v0_poreC_explore/100db.mcool::/resolutions/100000\") #::/resolutions/1000\n",
    "#tileset2 = hg.cooler(\"/gpfs/commons/groups/gursoy_lab/ajoglekar/Projects/2023_02_28_spliC/2023_02_28_v0_dataGathering/RCMC_data/GSM6281849_RCMC_BR1_merged_allCap_WT_mm39.merged.50.mcool\")\n"
   ]
  },
  {
   "cell_type": "code",
   "execution_count": 7,
   "metadata": {},
   "outputs": [
    {
     "data": {
      "text/plain": [
       "'/proxy/37596/tilesets/api/v1/'"
      ]
     },
     "execution_count": 7,
     "metadata": {},
     "output_type": "execute_result"
    }
   ],
   "source": [
    "hg.server.enable_proxy()\n",
    "track2 = tileset2.track(\"heatmap\",height = 300)\n",
    "track2.server"
   ]
  },
  {
   "cell_type": "code",
   "execution_count": 8,
   "metadata": {},
   "outputs": [
    {
     "data": {
      "application/vnd.jupyter.widget-view+json": {
       "model_id": "c29b7654105f4b039714887e09e36950",
       "version_major": 2,
       "version_minor": 0
      },
      "text/plain": [
       "HiGlassWidget()"
      ]
     },
     "metadata": {},
     "output_type": "display_data"
    }
   ],
   "source": [
    "domain = (85636972,85664961)\n",
    "view2 = hg.view(track2, width=6)\n",
    "view2.widget()"
   ]
  },
  {
   "cell_type": "code",
   "execution_count": null,
   "metadata": {},
   "outputs": [],
   "source": [
    "# Create a `hg.HeatmapTrack` for each tileset\n",
    "track1 = tileset1.track(\"heatmap\",height = 300)\n",
    "#track2 = tileset2.track(\"heatmap\",height = 300)\n",
    "\n",
    "# Create two independent `hg.View`s, one for each heatmap\n",
    "view1 = hg.view(track1, width=6)\n",
    "#view2 = hg.view(track2, width=6)\n",
    "\n",
    "# Lock zoom & location for each `View`\n",
    "view_lock = hg.lock(view1, view2)\n",
    "\n",
    "# Concatenate views horizontally and apply synchronization lock\n",
    "(view1 | view2).locks(view_lock)"
   ]
  },
  {
   "cell_type": "code",
   "execution_count": null,
   "metadata": {},
   "outputs": [],
   "source": [
    "tset1 = hg.remote(\n",
    "    uid=\"CQMd6V_cRw6iCI_-Unl3PQ\",\n",
    "    name=\"Rao et al. (2014) GM12878 MboI (allreps) 1kb\",\n",
    ")\n",
    "\n",
    "tset2 = hg.remote(\n",
    "    uid=\"QvdMEvccQuOxKTEjrVL3wA\",\n",
    "    name=\"Rao et al. (2014) K562 MboI (allreps) 1kb\",\n",
    ")\n",
    "\n",
    "t1 = tset1.track(\"heatmap\", height=300)\n",
    "t2 = tset2.track(\"heatmap\", height=300)\n",
    "\n",
    "t3 = hg.divide(t1, t2).opts(\n",
    "    colorRange=[\"blue\", \"white\", \"red\"],\n",
    "    valueScaleMin=0.1,\n",
    "    valueScaleMax=10,\n",
    ")\n",
    "\n",
    "domain = (7e7, 8e7)\n",
    "v1 = hg.view(t1, width=4).domain(x=domain)\n",
    "v2 = hg.view(t2, width=4).domain(x=domain)\n",
    "v3 = hg.view(t3, width=4).domain(x=domain)\n",
    "\n",
    "(v1 | v3 | v2).locks(hg.lock(v1, v2, v3))"
   ]
  },
  {
   "cell_type": "code",
   "execution_count": null,
   "metadata": {},
   "outputs": [],
   "source": [
    "import cooler\n",
    "import numpy as np\n",
    "c1 = cooler.Cooler(\"../../../2023_03_01_v0_dataGathering/v0_poreC_explore/100db.mcool::/resolutions/1000\")"
   ]
  },
  {
   "cell_type": "code",
   "execution_count": null,
   "metadata": {},
   "outputs": [],
   "source": [
    "dir(cooler)"
   ]
  },
  {
   "cell_type": "code",
   "execution_count": null,
   "metadata": {},
   "outputs": [],
   "source": [
    "#cooler.balance_cooler(c1)\n",
    "#c1.bins()['weight'] = biases[0].tolist()\n",
    "#mat = c1.matrix(balance=biases[0].tolist, sparse=True)[1000:1050, 1000:1050]\n",
    "#arr = mat.toarray()\n",
    "\n",
    "c1.bins()['weight'] = biases"
   ]
  },
  {
   "cell_type": "code",
   "execution_count": null,
   "metadata": {},
   "outputs": [],
   "source": [
    "fig = plt.figure(figsize=(10, 10))\n",
    "ax = fig.add_subplot(111)\n",
    "im = ax.matshow(np.log10(arr), cmap='YlOrRd')\n",
    "fig.colorbar(im)"
   ]
  },
  {
   "cell_type": "code",
   "execution_count": null,
   "metadata": {},
   "outputs": [],
   "source": []
  }
 ],
 "metadata": {
  "kernelspec": {
   "display_name": "hic_v0",
   "language": "python",
   "name": "python3"
  },
  "language_info": {
   "codemirror_mode": {
    "name": "ipython",
    "version": 3
   },
   "file_extension": ".py",
   "mimetype": "text/x-python",
   "name": "python",
   "nbconvert_exporter": "python",
   "pygments_lexer": "ipython3",
   "version": "3.10.11"
  },
  "orig_nbformat": 4
 },
 "nbformat": 4,
 "nbformat_minor": 2
}
