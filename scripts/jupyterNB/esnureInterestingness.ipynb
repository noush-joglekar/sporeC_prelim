{
 "cells": [
  {
   "cell_type": "code",
   "execution_count": 12,
   "metadata": {},
   "outputs": [],
   "source": [
    "import numpy as np\n",
    "import pandas as pd\n",
    "import matplotlib.pyplot as plt\n",
    "import pickle\n",
    "import random\n",
    "\n",
    "## Set up. \n",
    "dataDir = '/gpfs/commons/groups/gursoy_lab/ajoglekar/Projects/2023_03_01_multiwayInteractions/2023_03_01_v0_dataGathering/v0_hypergraphSimulations/getMultiwayInteractions_fromBPChains/'\n",
    "runDir = 'testWorkflow/iter1/'"
   ]
  },
  {
   "cell_type": "code",
   "execution_count": 3,
   "metadata": {},
   "outputs": [],
   "source": [
    "with open(f'{dataDir}makeHyperGraphDict/10k_sample1/hyperEdges_3_600_750_final_chains.pkl','rb') as f:\n",
    "    hpEdges = pickle.load(f)\n",
    "\n",
    "numEdges = np.loadtxt(f'{dataDir}makeHyperGraphDict/10k_sample1/numEdges_3_600_750_final_chains.txt')"
   ]
  },
  {
   "cell_type": "code",
   "execution_count": 4,
   "metadata": {},
   "outputs": [],
   "source": [
    "hpKeys = [k for k in hpEdges.keys()]\n",
    "hpKeys_split = [k.split(\"_\") for k in hpEdges.keys()]\n",
    "keyCard = [len(item) for item in hpKeys_split]"
   ]
  },
  {
   "cell_type": "code",
   "execution_count": 6,
   "metadata": {},
   "outputs": [
    {
     "data": {
      "text/plain": [
       "6809863"
      ]
     },
     "execution_count": 6,
     "metadata": {},
     "output_type": "execute_result"
    }
   ],
   "source": [
    "len(hpKeys)"
   ]
  },
  {
   "cell_type": "code",
   "execution_count": 9,
   "metadata": {},
   "outputs": [
    {
     "name": "stdout",
     "output_type": "stream",
     "text": [
      "There are  160827 reads\n"
     ]
    }
   ],
   "source": [
    "card = 3\n",
    "ixList = [index for index,element in enumerate(keyCard) if element == card]\n",
    "print(\"There are \",len(ixList),\"reads\")\n",
    "\n",
    "readSupps = [hpEdges[hpKeys[ix]] for ix in ixList]\n",
    "A = pd.Series(readSupps).describe()\n",
    "A.to_pickle(f'{dataDir}{runDir}try.pkl')"
   ]
  },
  {
   "cell_type": "code",
   "execution_count": 11,
   "metadata": {},
   "outputs": [
    {
     "data": {
      "text/plain": [
       "count    160827.000000\n",
       "mean        158.900253\n",
       "std         718.025588\n",
       "min           1.000000\n",
       "25%           5.000000\n",
       "50%          22.000000\n",
       "75%          90.000000\n",
       "max       30425.000000\n",
       "dtype: float64"
      ]
     },
     "execution_count": 11,
     "metadata": {},
     "output_type": "execute_result"
    }
   ],
   "source": [
    "pd.read_pickle(f'{dataDir}{runDir}try.pkl')"
   ]
  },
  {
   "cell_type": "code",
   "execution_count": 13,
   "metadata": {},
   "outputs": [
    {
     "name": "stdout",
     "output_type": "stream",
     "text": [
      "['Bin45:49_Bin70:74_Bin95:99', 'Bin75:79_Bin190:194_Bin235:239_Bin245:249_Bin415:419', 'Bin250:254_Bin430:434', 'Bin85:89_Bin90:94_Bin140:144', 'Bin340:344_Bin350:354', 'Bin115:119_Bin125:129', 'Bin360:364_Bin365:369_Bin465:469_Bin470:474', 'Bin115:119_Bin155:159_Bin160:164_Bin165:169_Bin270:274_Bin310:314', 'Bin250:254_Bin255:259_Bin270:274_Bin275:279_Bin450:454', 'Bin40:44_Bin45:49_Bin85:89_Bin90:94_Bin140:144', 'Bin80:84_Bin150:154', 'Bin220:224_Bin240:244_Bin435:439', 'Bin5:9_Bin15:19_Bin20:24', 'Bin10:14_Bin110:114_Bin115:119_Bin120:124_Bin125:129', 'Bin250:254_Bin280:284_Bin285:289_Bin420:424', 'Bin160:164_Bin175:179', 'Bin15:19_Bin40:44_Bin80:84', 'Bin65:69_Bin365:369_Bin370:374', 'Bin20:24_Bin25:29_Bin45:49', 'Bin20:24_Bin95:99']\n"
     ]
    }
   ],
   "source": [
    "r = random.sample(range(10000),20)\n",
    "# print(r)\n",
    "print([hpKeys[i] for i in r])\n",
    "# print([hpKeys_split[i] for i in r])\n",
    "\n",
    "readsOfInterest = [hpKeys[i] for i in r]\n",
    "with open(f'{dataDir}expectedReadCutoffEvaluation_v0/testSet/randomReads.pkl','wb') as f:\n",
    "    pickle.dump(readsOfInterest,f)\n"
   ]
  },
  {
   "cell_type": "code",
   "execution_count": 55,
   "metadata": {},
   "outputs": [
    {
     "name": "stdout",
     "output_type": "stream",
     "text": [
      "1\n",
      "['Bin10:14', 'Bin15:19', 'Bin275:279', 'Bin320:324']\n",
      "Valid file\n",
      "2\n",
      "['Bin10:14', 'Bin15:19', 'Bin275:279', 'Bin320:324']\n",
      "['Bin5:9', 'Bin10:14', 'Bin25:29']\n",
      "['Bin15:19', 'Bin20:24', 'Bin25:29', 'Bin160:164']\n",
      "['Bin10:14', 'Bin25:29', 'Bin30:34', 'Bin245:249']\n",
      "['Bin0:4', 'Bin5:9', 'Bin35:39', 'Bin70:74', 'Bin145:149']\n",
      "['Bin0:4', 'Bin65:69', 'Bin90:94', 'Bin95:99']\n",
      "['Bin55:59', 'Bin75:79', 'Bin95:99', 'Bin105:109']\n",
      "['Bin150:154', 'Bin320:324']\n",
      "['Bin5:9', 'Bin35:39', 'Bin45:49', 'Bin240:244']\n",
      "['Bin5:9', 'Bin35:39', 'Bin60:64', 'Bin70:74', 'Bin85:89', 'Bin150:154']\n",
      "['Bin65:69', 'Bin70:74', 'Bin145:149']\n",
      "['Bin0:4', 'Bin60:64', 'Bin75:79', 'Bin90:94']\n",
      "['Bin115:119', 'Bin120:124', 'Bin125:129', 'Bin160:164']\n",
      "['Bin0:4', 'Bin35:39', 'Bin55:59', 'Bin60:64']\n",
      "Valid file\n",
      "3\n",
      "['Bin10:14', 'Bin15:19', 'Bin275:279', 'Bin320:324']\n",
      "['Bin5:9', 'Bin10:14', 'Bin25:29']\n",
      "Valid file\n",
      "4\n",
      "['Bin10:14', 'Bin15:19', 'Bin275:279', 'Bin320:324']\n",
      "['Bin5:9', 'Bin10:14', 'Bin25:29']\n",
      "['Bin15:19', 'Bin20:24', 'Bin25:29', 'Bin160:164']\n",
      "['Bin10:14', 'Bin25:29', 'Bin30:34', 'Bin245:249']\n",
      "['Bin0:4', 'Bin5:9', 'Bin35:39', 'Bin70:74', 'Bin145:149']\n",
      "['Bin0:4', 'Bin65:69', 'Bin90:94', 'Bin95:99']\n",
      "['Bin55:59', 'Bin75:79', 'Bin95:99', 'Bin105:109']\n",
      "['Bin150:154', 'Bin320:324']\n",
      "['Bin5:9', 'Bin35:39', 'Bin45:49', 'Bin240:244']\n",
      "['Bin5:9', 'Bin35:39', 'Bin60:64', 'Bin70:74', 'Bin85:89', 'Bin150:154']\n",
      "['Bin65:69', 'Bin70:74', 'Bin145:149']\n",
      "['Bin0:4', 'Bin60:64', 'Bin75:79', 'Bin90:94']\n",
      "['Bin115:119', 'Bin120:124', 'Bin125:129', 'Bin160:164']\n",
      "['Bin0:4', 'Bin35:39', 'Bin55:59', 'Bin60:64']\n",
      "['Bin15:19', 'Bin150:154', 'Bin320:324']\n",
      "['Bin50:54', 'Bin55:59', 'Bin65:69', 'Bin90:94', 'Bin105:109']\n",
      "['Bin115:119', 'Bin120:124']\n",
      "Valid file\n",
      "5\n",
      "['Bin10:14', 'Bin15:19', 'Bin275:279', 'Bin320:324']\n",
      "['Bin5:9', 'Bin10:14', 'Bin25:29']\n",
      "['Bin15:19', 'Bin20:24', 'Bin25:29', 'Bin160:164']\n",
      "['Bin10:14', 'Bin25:29', 'Bin30:34', 'Bin245:249']\n",
      "['Bin0:4', 'Bin5:9', 'Bin35:39', 'Bin70:74', 'Bin145:149']\n",
      "['Bin0:4', 'Bin65:69', 'Bin90:94', 'Bin95:99']\n",
      "['Bin55:59', 'Bin75:79', 'Bin95:99', 'Bin105:109']\n",
      "['Bin150:154', 'Bin320:324']\n",
      "['Bin5:9', 'Bin35:39', 'Bin45:49', 'Bin240:244']\n",
      "['Bin5:9', 'Bin35:39', 'Bin60:64', 'Bin70:74', 'Bin85:89', 'Bin150:154']\n",
      "['Bin65:69', 'Bin70:74', 'Bin145:149']\n",
      "['Bin0:4', 'Bin60:64', 'Bin75:79', 'Bin90:94']\n",
      "['Bin115:119', 'Bin120:124', 'Bin125:129', 'Bin160:164']\n",
      "['Bin0:4', 'Bin35:39', 'Bin55:59', 'Bin60:64']\n",
      "['Bin15:19', 'Bin150:154', 'Bin320:324']\n",
      "['Bin50:54', 'Bin55:59', 'Bin65:69', 'Bin90:94', 'Bin105:109']\n",
      "['Bin115:119', 'Bin120:124']\n",
      "Valid file\n",
      "6\n",
      "['Bin10:14', 'Bin15:19', 'Bin275:279', 'Bin320:324']\n",
      "['Bin5:9', 'Bin10:14', 'Bin25:29']\n",
      "['Bin15:19', 'Bin20:24', 'Bin25:29', 'Bin160:164']\n",
      "['Bin10:14', 'Bin25:29', 'Bin30:34', 'Bin245:249']\n",
      "['Bin0:4', 'Bin5:9', 'Bin35:39', 'Bin70:74', 'Bin145:149']\n",
      "['Bin0:4', 'Bin65:69', 'Bin90:94', 'Bin95:99']\n",
      "['Bin55:59', 'Bin75:79', 'Bin95:99', 'Bin105:109']\n",
      "['Bin150:154', 'Bin320:324']\n",
      "['Bin5:9', 'Bin35:39', 'Bin45:49', 'Bin240:244']\n",
      "['Bin5:9', 'Bin35:39', 'Bin60:64', 'Bin70:74', 'Bin85:89', 'Bin150:154']\n",
      "['Bin65:69', 'Bin70:74', 'Bin145:149']\n",
      "['Bin0:4', 'Bin60:64', 'Bin75:79', 'Bin90:94']\n",
      "['Bin115:119', 'Bin120:124', 'Bin125:129', 'Bin160:164']\n",
      "['Bin0:4', 'Bin35:39', 'Bin55:59', 'Bin60:64']\n",
      "['Bin15:19', 'Bin150:154', 'Bin320:324']\n",
      "['Bin50:54', 'Bin55:59', 'Bin65:69', 'Bin90:94', 'Bin105:109']\n",
      "['Bin115:119', 'Bin120:124']\n",
      "Valid file\n",
      "7\n",
      "['Bin10:14', 'Bin15:19', 'Bin275:279', 'Bin320:324']\n",
      "['Bin5:9', 'Bin10:14', 'Bin25:29']\n",
      "['Bin15:19', 'Bin20:24', 'Bin25:29', 'Bin160:164']\n",
      "['Bin10:14', 'Bin25:29', 'Bin30:34', 'Bin245:249']\n",
      "['Bin0:4', 'Bin5:9', 'Bin35:39', 'Bin70:74', 'Bin145:149']\n",
      "['Bin0:4', 'Bin65:69', 'Bin90:94', 'Bin95:99']\n",
      "['Bin55:59', 'Bin75:79', 'Bin95:99', 'Bin105:109']\n",
      "['Bin150:154', 'Bin320:324']\n",
      "['Bin5:9', 'Bin35:39', 'Bin45:49', 'Bin240:244']\n",
      "['Bin5:9', 'Bin35:39', 'Bin60:64', 'Bin70:74', 'Bin85:89', 'Bin150:154']\n",
      "['Bin65:69', 'Bin70:74', 'Bin145:149']\n",
      "['Bin0:4', 'Bin60:64', 'Bin75:79', 'Bin90:94']\n",
      "['Bin115:119', 'Bin120:124', 'Bin125:129', 'Bin160:164']\n",
      "['Bin0:4', 'Bin35:39', 'Bin55:59', 'Bin60:64']\n",
      "['Bin15:19', 'Bin150:154', 'Bin320:324']\n",
      "['Bin50:54', 'Bin55:59', 'Bin65:69', 'Bin90:94', 'Bin105:109']\n",
      "['Bin115:119', 'Bin120:124']\n",
      "Valid file\n",
      "8\n",
      "['Bin10:14', 'Bin15:19', 'Bin275:279', 'Bin320:324']\n",
      "['Bin5:9', 'Bin10:14', 'Bin25:29']\n",
      "['Bin15:19', 'Bin20:24', 'Bin25:29', 'Bin160:164']\n",
      "['Bin10:14', 'Bin25:29', 'Bin30:34', 'Bin245:249']\n",
      "['Bin0:4', 'Bin5:9', 'Bin35:39', 'Bin70:74', 'Bin145:149']\n",
      "['Bin0:4', 'Bin65:69', 'Bin90:94', 'Bin95:99']\n",
      "['Bin55:59', 'Bin75:79', 'Bin95:99', 'Bin105:109']\n",
      "['Bin150:154', 'Bin320:324']\n",
      "['Bin5:9', 'Bin35:39', 'Bin45:49', 'Bin240:244']\n",
      "['Bin5:9', 'Bin35:39', 'Bin60:64', 'Bin70:74', 'Bin85:89', 'Bin150:154']\n",
      "['Bin65:69', 'Bin70:74', 'Bin145:149']\n",
      "['Bin0:4', 'Bin60:64', 'Bin75:79', 'Bin90:94']\n",
      "['Bin115:119', 'Bin120:124', 'Bin125:129', 'Bin160:164']\n",
      "['Bin0:4', 'Bin35:39', 'Bin55:59', 'Bin60:64']\n",
      "['Bin15:19', 'Bin150:154', 'Bin320:324']\n",
      "['Bin50:54', 'Bin55:59', 'Bin65:69', 'Bin90:94', 'Bin105:109']\n",
      "['Bin115:119', 'Bin120:124']\n",
      "Valid file\n",
      "9\n",
      "['Bin10:14', 'Bin15:19', 'Bin275:279', 'Bin320:324']\n",
      "['Bin5:9', 'Bin10:14', 'Bin25:29']\n",
      "Valid file\n"
     ]
    }
   ],
   "source": [
    "randomSplitKeyList = [hpKeys_split[i] for i in r]\n",
    "\n",
    "indicesToConsider = []\n",
    "\n",
    "for fileNum in range(1,10):\n",
    "    print(fileNum)\n",
    "    with open(f'{dataDir}chains_10k_500_projectionMtxOutput_sample2/binConcatInc_3_600_750_{fileNum}.pkl','rb') as f:\n",
    "        A = pickle.load(f)\n",
    "        for sk in randomSplitKeyList:\n",
    "            print(sk)\n",
    "            B = A.loc[sk]\n",
    "            C = B.columns[B.sum() == B.shape[0]]\n",
    "            if len(C) >0 : \n",
    "                print(\"Valid file\")\n",
    "                indicesToConsider.append(fileNum)\n",
    "                break"
   ]
  },
  {
   "cell_type": "code",
   "execution_count": 57,
   "metadata": {},
   "outputs": [],
   "source": [
    "def getReads(inFile):\n",
    "    \"\"\"Read in a list of reads that we want to test our workflow on.\n",
    "    Currently unsure if they are supposed to be random or interesting\"\"\"\n",
    "    with open(inFile,'rb') as f:\n",
    "        roi = pd.read_pickle(f)\n",
    "        readsOfInterest = [r.split(\"_\") for r in roi]\n",
    "    return(readsOfInterest)\n",
    "\n",
    "def checkIfValid(pickledFile,readsOfInterest):\n",
    "    \"\"\"need to check diff between pd.read_pickle and pickle.load\"\"\"\n",
    "    for roi in readsOfInterest:\n",
    "        print(roi)\n",
    "        rois = pickledFile.loc[roi]\n",
    "        nonZeroEdges = rois.columns[rois.sum() == rois.shape[0]]\n",
    "        if len(nonZeroEdges) >0 : \n",
    "            print(\"Valid file\")\n",
    "            return True\n",
    "        \n",
    "def process_chunk(dataDir, inputDir, outDir, offDiagDist, chunk, chunk_size, readsOfInterest):\n",
    "    \"\"\"Process a chunk of files and write temporary output.\"\"\"\n",
    "    result_dict = {}\n",
    "    numEdges = []\n",
    "\n",
    "    start_file = (chunk - 1) * chunk_size + 1\n",
    "    end_file = chunk * chunk_size\n",
    "\n",
    "    for ix in range(start_file, end_file + 1):\n",
    "        filePath = f'{dataDir}/{inputDir}/binConcatInc_3_600_750_{ix}.pkl'\n",
    "        if os.path.isfile(filePath):\n",
    "            c = False\n",
    "            bIncDF = pd.read_pickle(filePath)\n",
    "            c = checkIfValid(bIncDF,readsOfInterest)\n",
    "            if c is True:\n",
    "                result_dict = dfToDict(bIncDF, result_dict)\n",
    "                nE = len(result_dict)\n",
    "                numEdges.append(nE)\n",
    "\n",
    "    # Write temporary output for the current chunk\n",
    "    if result_dict:\n",
    "        temp_output_file = f'{dataDir}/{outDir}hyperEdges_{offDiagDist}_600_750_chunk{chunk}_chains.pkl'\n",
    "        with open(temp_output_file, 'wb') as f:\n",
    "            pickle.dump(result_dict, f)\n",
    "\n",
    "        temp_num_edges_file = f'{dataDir}{outDir}numEdges_{offDiagDist}_600_750_chunk{chunk}_chains.txt'\n",
    "        np.savetxt(temp_num_edges_file, numEdges, delimiter='\\t', fmt='%d')\n",
    "\n",
    "    print(f\"Chunk {chunk} done\")"
   ]
  },
  {
   "cell_type": "code",
   "execution_count": 58,
   "metadata": {},
   "outputs": [
    {
     "name": "stdout",
     "output_type": "stream",
     "text": [
      "['Bin10:14', 'Bin15:19', 'Bin275:279', 'Bin320:324']\n",
      "['Bin5:9', 'Bin10:14', 'Bin25:29']\n",
      "Valid file\n"
     ]
    },
    {
     "ename": "NameError",
     "evalue": "name 'dfToDict' is not defined",
     "output_type": "error",
     "traceback": [
      "\u001b[0;31m---------------------------------------------------------------------------\u001b[0m",
      "\u001b[0;31mNameError\u001b[0m                                 Traceback (most recent call last)",
      "\u001b[1;32m/gpfs/commons/groups/gursoy_lab/ajoglekar/Projects/2023_03_01_multiwayInteractions/v0.analysis/scripts/jupyterNB/esnureInterestingness.ipynb Cell 8\u001b[0m line \u001b[0;36m4\n\u001b[1;32m      <a href='vscode-notebook-cell://ssh-remote%2Bpe2-compute/gpfs/commons/groups/gursoy_lab/ajoglekar/Projects/2023_03_01_multiwayInteractions/v0.analysis/scripts/jupyterNB/esnureInterestingness.ipynb#X23sdnNjb2RlLXJlbW90ZQ%3D%3D?line=0'>1</a>\u001b[0m \u001b[39mimport\u001b[39;00m \u001b[39mos\u001b[39;00m\n\u001b[1;32m      <a href='vscode-notebook-cell://ssh-remote%2Bpe2-compute/gpfs/commons/groups/gursoy_lab/ajoglekar/Projects/2023_03_01_multiwayInteractions/v0.analysis/scripts/jupyterNB/esnureInterestingness.ipynb#X23sdnNjb2RlLXJlbW90ZQ%3D%3D?line=1'>2</a>\u001b[0m readsOfInterest \u001b[39m=\u001b[39m getReads(\u001b[39mf\u001b[39m\u001b[39m'\u001b[39m\u001b[39m{\u001b[39;00mdataDir\u001b[39m}\u001b[39;00m\u001b[39mexpectedReadCutoffEvaluation_v0/testSet/randomReads.pkl\u001b[39m\u001b[39m'\u001b[39m)\n\u001b[0;32m----> <a href='vscode-notebook-cell://ssh-remote%2Bpe2-compute/gpfs/commons/groups/gursoy_lab/ajoglekar/Projects/2023_03_01_multiwayInteractions/v0.analysis/scripts/jupyterNB/esnureInterestingness.ipynb#X23sdnNjb2RlLXJlbW90ZQ%3D%3D?line=3'>4</a>\u001b[0m process_chunk(dataDir, \u001b[39m'\u001b[39;49m\u001b[39mchains_10k_500_projectionMtxOutput_sample2/\u001b[39;49m\u001b[39m'\u001b[39;49m, \n\u001b[1;32m      <a href='vscode-notebook-cell://ssh-remote%2Bpe2-compute/gpfs/commons/groups/gursoy_lab/ajoglekar/Projects/2023_03_01_multiwayInteractions/v0.analysis/scripts/jupyterNB/esnureInterestingness.ipynb#X23sdnNjb2RlLXJlbW90ZQ%3D%3D?line=4'>5</a>\u001b[0m               \u001b[39m'\u001b[39;49m\u001b[39mexpectedReadCutoffEvaluation_v0/testSet/\u001b[39;49m\u001b[39m'\u001b[39;49m, \u001b[39m3\u001b[39;49m, \u001b[39m0\u001b[39;49m, \u001b[39m5\u001b[39;49m, readsOfInterest)\n",
      "\u001b[1;32m/gpfs/commons/groups/gursoy_lab/ajoglekar/Projects/2023_03_01_multiwayInteractions/v0.analysis/scripts/jupyterNB/esnureInterestingness.ipynb Cell 8\u001b[0m line \u001b[0;36m3\n\u001b[1;32m     <a href='vscode-notebook-cell://ssh-remote%2Bpe2-compute/gpfs/commons/groups/gursoy_lab/ajoglekar/Projects/2023_03_01_multiwayInteractions/v0.analysis/scripts/jupyterNB/esnureInterestingness.ipynb#X23sdnNjb2RlLXJlbW90ZQ%3D%3D?line=31'>32</a>\u001b[0m c \u001b[39m=\u001b[39m checkIfValid(bIncDF,readsOfInterest)\n\u001b[1;32m     <a href='vscode-notebook-cell://ssh-remote%2Bpe2-compute/gpfs/commons/groups/gursoy_lab/ajoglekar/Projects/2023_03_01_multiwayInteractions/v0.analysis/scripts/jupyterNB/esnureInterestingness.ipynb#X23sdnNjb2RlLXJlbW90ZQ%3D%3D?line=32'>33</a>\u001b[0m \u001b[39mif\u001b[39;00m c \u001b[39mis\u001b[39;00m \u001b[39mTrue\u001b[39;00m:\n\u001b[0;32m---> <a href='vscode-notebook-cell://ssh-remote%2Bpe2-compute/gpfs/commons/groups/gursoy_lab/ajoglekar/Projects/2023_03_01_multiwayInteractions/v0.analysis/scripts/jupyterNB/esnureInterestingness.ipynb#X23sdnNjb2RlLXJlbW90ZQ%3D%3D?line=33'>34</a>\u001b[0m     result_dict \u001b[39m=\u001b[39m dfToDict(bIncDF, result_dict)\n\u001b[1;32m     <a href='vscode-notebook-cell://ssh-remote%2Bpe2-compute/gpfs/commons/groups/gursoy_lab/ajoglekar/Projects/2023_03_01_multiwayInteractions/v0.analysis/scripts/jupyterNB/esnureInterestingness.ipynb#X23sdnNjb2RlLXJlbW90ZQ%3D%3D?line=34'>35</a>\u001b[0m     nE \u001b[39m=\u001b[39m \u001b[39mlen\u001b[39m(result_dict)\n\u001b[1;32m     <a href='vscode-notebook-cell://ssh-remote%2Bpe2-compute/gpfs/commons/groups/gursoy_lab/ajoglekar/Projects/2023_03_01_multiwayInteractions/v0.analysis/scripts/jupyterNB/esnureInterestingness.ipynb#X23sdnNjb2RlLXJlbW90ZQ%3D%3D?line=35'>36</a>\u001b[0m     numEdges\u001b[39m.\u001b[39mappend(nE)\n",
      "\u001b[0;31mNameError\u001b[0m: name 'dfToDict' is not defined"
     ]
    }
   ],
   "source": [
    "import os\n",
    "readsOfInterest = getReads(f'{dataDir}expectedReadCutoffEvaluation_v0/testSet/randomReads.pkl')\n",
    "\n",
    "process_chunk(dataDir, 'chains_10k_500_projectionMtxOutput_sample2/', \n",
    "              'expectedReadCutoffEvaluation_v0/testSet/', 3, 0, 5, readsOfInterest)"
   ]
  },
  {
   "cell_type": "code",
   "execution_count": 56,
   "metadata": {},
   "outputs": [],
   "source": [
    "inputDir = 'chains_10k_500_projectionMtxOutput_sample2/'\n",
    "ix = 3\n",
    "filePath = f'{dataDir}/{inputDir}/binConcatInc_3_600_750_{ix}.pkl'"
   ]
  },
  {
   "cell_type": "code",
   "execution_count": null,
   "metadata": {},
   "outputs": [],
   "source": []
  }
 ],
 "metadata": {
  "kernelspec": {
   "display_name": "hypergraph_poreC",
   "language": "python",
   "name": "python3"
  },
  "language_info": {
   "codemirror_mode": {
    "name": "ipython",
    "version": 3
   },
   "file_extension": ".py",
   "mimetype": "text/x-python",
   "name": "python",
   "nbconvert_exporter": "python",
   "pygments_lexer": "ipython3",
   "version": "3.10.9"
  }
 },
 "nbformat": 4,
 "nbformat_minor": 2
}
