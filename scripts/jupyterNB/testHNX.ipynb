{
 "cells": [
  {
   "cell_type": "code",
   "execution_count": 5,
   "metadata": {},
   "outputs": [],
   "source": [
    "import matplotlib.pyplot as plt\n",
    "import numpy as np\n",
    "import networkx as nx\n",
    "import hypernetx.algorithms.hypergraph_modularity as hmod\n",
    "import pandas as pd\n",
    "import igraph as ig\n",
    "import hypernetx as hnx\n",
    "\n",
    "import warnings\n",
    "warnings.simplefilter(action='ignore')"
   ]
  },
  {
   "cell_type": "code",
   "execution_count": 2,
   "metadata": {},
   "outputs": [],
   "source": [
    "testFile = '/gpfs/commons/groups/gursoy_lab/ajoglekar/Projects/2023_03_01_multiwayInteractions/2023_03_01_v0_dataGathering/v0_poreC_explore/testSet_HG'\n",
    "colNames = [\"ReadID\",\"Cardinality\",\"GeneID\",\"bioType\",\"GeneName\",\"dist\",\"readLength\",\"readQual\"]\n",
    "df = pd.read_csv(testFile,sep = \"\\t\",names = colNames)"
   ]
  },
  {
   "cell_type": "code",
   "execution_count": 3,
   "metadata": {},
   "outputs": [
    {
     "data": {
      "text/plain": [
       "(1046, 512)"
      ]
     },
     "execution_count": 3,
     "metadata": {},
     "output_type": "execute_result"
    }
   ],
   "source": [
    "binMat = pd.pivot_table(data=df[['ReadID', 'GeneName']], index='GeneName', columns='ReadID', aggfunc=lambda x: 1, fill_value=0)\n",
    "binMat.shape"
   ]
  },
  {
   "cell_type": "code",
   "execution_count": 6,
   "metadata": {},
   "outputs": [],
   "source": [
    "H = hnx.Hypergraph.from_incidence_dataframe(binMat)"
   ]
  },
  {
   "cell_type": "code",
   "execution_count": 7,
   "metadata": {},
   "outputs": [],
   "source": [
    "HG = hmod.precompute_attributes(H)\n"
   ]
  },
  {
   "cell_type": "code",
   "execution_count": 8,
   "metadata": {},
   "outputs": [],
   "source": [
    "K = hmod.kumar(HG)"
   ]
  },
  {
   "cell_type": "code",
   "execution_count": 16,
   "metadata": {},
   "outputs": [
    {
     "data": {
      "text/plain": [
       "Text(0.5, 1.0, 'Cluster Sizes')"
      ]
     },
     "execution_count": 16,
     "metadata": {},
     "output_type": "execute_result"
    },
    {
     "data": {
      "image/png": "[encoded data removed]",
      "text/plain": [
       "<Figure size 500x500 with 1 Axes>"
      ]
     },
     "metadata": {},
     "output_type": "display_data"
    }
   ],
   "source": [
    "clusterSizes = [len(s) for s in K]\n",
    "x = range(len(clusterSizes))\n",
    "\n",
    "plt.subplots(figsize=(5,5))\n",
    "plt.bar(x, clusterSizes)\n",
    "plt.xlabel('Cluster')\n",
    "plt.ylabel('Number of Nodes')\n",
    "plt.title('Cluster Sizes')"
   ]
  },
  {
   "cell_type": "code",
   "execution_count": 21,
   "metadata": {},
   "outputs": [],
   "source": [
    "sortedClusters = sorted(zip(K,clusterSizes), key = lambda x:x[1],reverse = True)\n",
    "top_clusters = [cluster for cluster, size in sortedClusters[:3]]"
   ]
  },
  {
   "cell_type": "code",
   "execution_count": 24,
   "metadata": {},
   "outputs": [],
   "source": [
    "top3 = H.restrict_to_nodes(nodes=set.union(*top_clusters))"
   ]
  },
  {
   "cell_type": "code",
   "execution_count": null,
   "metadata": {},
   "outputs": [],
   "source": [
    "# hnx.draw(top3.collapse_nodes_and_edges(),with_node_counts = True, with_edge_counts = True,\n",
    "#          node_labels = False, edge_labels = False)"
   ]
  },
  {
   "cell_type": "code",
   "execution_count": null,
   "metadata": {},
   "outputs": [],
   "source": []
  }
 ],
 "metadata": {
  "kernelspec": {
   "display_name": "hypergraph_poreC",
   "language": "python",
   "name": "python3"
  },
  "language_info": {
   "codemirror_mode": {
    "name": "ipython",
    "version": 3
   },
   "file_extension": ".py",
   "mimetype": "text/x-python",
   "name": "python",
   "nbconvert_exporter": "python",
   "pygments_lexer": "ipython3",
   "version": "3.10.9"
  },
  "orig_nbformat": 4
 },
 "nbformat": 4,
 "nbformat_minor": 2
}
