{
 "cells": [
  {
   "cell_type": "code",
   "execution_count": 1,
   "metadata": {},
   "outputs": [
    {
     "data": {
      "text/plain": [
       "'1.0.0'"
      ]
     },
     "execution_count": 1,
     "metadata": {},
     "output_type": "execute_result"
    }
   ],
   "source": [
    "# Setup\n",
    "import sys\n",
    "import os\n",
    "import higlass as hg\n",
    "\n",
    "hg.__version__"
   ]
  },
  {
   "cell_type": "code",
   "execution_count": 3,
   "metadata": {},
   "outputs": [],
   "source": [
    "## remote data\n",
    "tileset1 = hg.remote(\n",
    "    uid=\"CQMd6V_cRw6iCI_-Unl3PQ\",\n",
    "    server=\"https://higlass.io/api/v1/\",\n",
    "    name=\"Rao et al. (2014) GM12878 MboI (allreps) 1kb\",\n",
    ")\n",
    "\n",
    "## local data\n",
    "tileset2 = hg.cooler(\"/gpfs/commons/groups/gursoy_lab/ajoglekar/Projects/2023_02_28_spliC/2023_02_28_v0_dataGathering/RCMC_data/GSM6281849_RCMC_BR1_merged_allCap_WT_mm39.merged.50.mcool\",\n",
    "                     uid=\"RCMC\") #::/resolutions/1000\n"
   ]
  },
  {
   "cell_type": "code",
   "execution_count": 4,
   "metadata": {},
   "outputs": [
    {
     "data": {
      "text/html": [
       "\n",
       "<!DOCTYPE html>\n",
       "<html>\n",
       "  <head>\n",
       "    <link rel=\"stylesheet\" href=\"https://esm.sh/higlass@1.12/dist/hglib.css\">\n",
       "    <script src=\"https://unpkg.com/requirejs-toggle\"></script>\n",
       "    \n",
       "    <script src=\"https://unpkg.com/requirejs-toggle\"></script>\n",
       "  </head>\n",
       "  <body>\n",
       "    <div id=\"jupyter-hg-fede8e68aa2a451288e5e40306132628\"></div>\n",
       "  </body>\n",
       "  <script type=\"module\">\n",
       "    import hglib from \"https://esm.sh/higlass@1.12?deps=react@17,react-dom@17,pixi.js@6\";\n",
       "    hglib.viewer(\n",
       "      document.getElementById('jupyter-hg-fede8e68aa2a451288e5e40306132628'),\n",
       "      {\"editable\": true, \"viewEditable\": true, \"tracksEditable\": true, \"views\": [{\"layout\": {\"x\": 0, \"y\": 0, \"w\": 12, \"h\": 6}, \"tracks\": {\"center\": [{\"tilesetUid\": \"RCMC\", \"server\": \"http://localhost:37514/tilesets/api/v1/\", \"type\": \"heatmap\", \"uid\": \"fae2107c-e7c3-4676-91e1-4c2e360e3360\", \"height\": 300}]}, \"uid\": \"c5d13b2c-6c1d-44b5-aa51-cea64f6ce07b\", \"zoomLimits\": [1, null]}]},\n",
       "    );\n",
       "    </script>\n",
       "</html>"
      ],
      "text/plain": [
       "View(layout=Layout(x=0, y=0, w=12, h=6, moved=None, static=None), tracks=Tracks[TrackT](left=None, right=None, top=None, bottom=None, center=[HeatmapTrack(tilesetUid='RCMC', server='http://localhost:37514/tilesets/api/v1/', type='heatmap', uid='fae2107c-e7c3-4676-91e1-4c2e360e3360', width=None, height=300, options=None, data=None, position=None, transforms=None)], whole=None, gallery=None), uid='c5d13b2c-6c1d-44b5-aa51-cea64f6ce07b', autocompleteSource=None, chromInfoPath=None, genomePositionSearchBox=None, genomePositionSearchBoxVisible=None, initialXDomain=None, initialYDomain=None, overlays=None, selectionView=None, zoomFixed=None, zoomLimits=(1, None))"
      ]
     },
     "execution_count": 4,
     "metadata": {},
     "output_type": "execute_result"
    }
   ],
   "source": [
    "t = tileset2.track('heatmap',server_port = 37514,height = 300)\n",
    "\n",
    "hg.view(t)"
   ]
  },
  {
   "cell_type": "code",
   "execution_count": 2,
   "metadata": {},
   "outputs": [
    {
     "ename": "ModuleNotFoundError",
     "evalue": "No module named 'cooltools'",
     "output_type": "error",
     "traceback": [
      "\u001b[0;31m---------------------------------------------------------------------------\u001b[0m",
      "\u001b[0;31mModuleNotFoundError\u001b[0m                       Traceback (most recent call last)",
      "Cell \u001b[0;32mIn[2], line 4\u001b[0m\n\u001b[1;32m      2\u001b[0m \u001b[38;5;28;01mimport\u001b[39;00m \u001b[38;5;21;01mos\u001b[39;00m\n\u001b[1;32m      3\u001b[0m \u001b[38;5;28;01mimport\u001b[39;00m \u001b[38;5;21;01mcooler\u001b[39;00m\n\u001b[0;32m----> 4\u001b[0m \u001b[38;5;28;01mimport\u001b[39;00m \u001b[38;5;21;01mcooltools\u001b[39;00m\n\u001b[1;32m      5\u001b[0m \u001b[38;5;28;01mimport\u001b[39;00m \u001b[38;5;21;01mseaborn\u001b[39;00m \u001b[38;5;28;01mas\u001b[39;00m \u001b[38;5;21;01msns\u001b[39;00m\n\u001b[1;32m      6\u001b[0m \u001b[38;5;28;01mimport\u001b[39;00m \u001b[38;5;21;01mpandas\u001b[39;00m \u001b[38;5;28;01mas\u001b[39;00m \u001b[38;5;21;01mpd\u001b[39;00m\n",
      "\u001b[0;31mModuleNotFoundError\u001b[0m: No module named 'cooltools'"
     ]
    }
   ],
   "source": [
    "import sys\n",
    "import os\n",
    "import cooler\n",
    "import cooltools\n",
    "import seaborn as sns\n",
    "import pandas as pd\n",
    "import numpy as np\n",
    "import matplotlib.pyplot as plt"
   ]
  },
  {
   "cell_type": "code",
   "execution_count": null,
   "metadata": {},
   "outputs": [],
   "source": [
    "c1 = cooler.Cooler(\"/gpfs/commons/groups/gursoy_lab/ajoglekar/Projects/2023_02_28_spliC/2023_02_28_v0_dataGathering/RCMC_data/GSM6281849_RCMC_BR1_merged_allCap_WT_mm39.merged.50.mcool::/resolutions/100\")"
   ]
  },
  {
   "cell_type": "code",
   "execution_count": null,
   "metadata": {},
   "outputs": [],
   "source": [
    "Ppm1g_locus = c1.bins().fetch(\"chr5:31394565-31412789\")"
   ]
  },
  {
   "cell_type": "code",
   "execution_count": null,
   "metadata": {},
   "outputs": [],
   "source": [
    "Ppm1g_locus_mat = c1.matrix(sparse=True).fetch(\"chr5:31394565-31412789\")\n",
    "Ppm1g_locus_mat.shape"
   ]
  },
  {
   "cell_type": "code",
   "execution_count": null,
   "metadata": {},
   "outputs": [],
   "source": [
    "arr2 = Ppm1g_locus_mat.toarray()"
   ]
  },
  {
   "cell_type": "code",
   "execution_count": null,
   "metadata": {},
   "outputs": [],
   "source": [
    "fig = plt.figure(figsize=(10, 10))\n",
    "ax = fig.add_subplot(111)\n",
    "im = ax.matshow(np.log10(arr2), cmap='YlOrRd')\n",
    "fig.colorbar(im)"
   ]
  },
  {
   "cell_type": "code",
   "execution_count": null,
   "metadata": {},
   "outputs": [],
   "source": []
  }
 ],
 "metadata": {
  "kernelspec": {
   "display_name": "Python 3 (ipykernel)",
   "language": "python",
   "name": "python3"
  },
  "language_info": {
   "codemirror_mode": {
    "name": "ipython",
    "version": 3
   },
   "file_extension": ".py",
   "mimetype": "text/x-python",
   "name": "python",
   "nbconvert_exporter": "python",
   "pygments_lexer": "ipython3",
   "version": "3.10.11"
  }
 },
 "nbformat": 4,
 "nbformat_minor": 2
}
