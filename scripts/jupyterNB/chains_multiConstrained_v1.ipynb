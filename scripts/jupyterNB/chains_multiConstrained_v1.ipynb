{
 "cells": [
  {
   "cell_type": "code",
   "execution_count": 71,
   "metadata": {},
   "outputs": [],
   "source": [
    "import importlib\n",
    "import numpy as np\n",
    "import argparse\n",
    "import pickle\n",
    "import os\n",
    "import pandas as pd\n",
    "import plotnine\n",
    "\n",
    "import sys\n",
    "sys.path.append('/gpfs/commons/groups/gursoy_lab/ajoglekar/Projects/2023_03_01_multiwayInteractions/v0.analysis/scripts/pythonScripts/functions/')\n",
    "\n",
    "from v1_chains import IncDFCreator, increaseIncDF_binSize\n",
    "import v1_chains\n",
    "from utils import flatten\n",
    "\n",
    "from incidenceToProjection import makeHiC_fromInc\n",
    "\n",
    "import chains"
   ]
  },
  {
   "cell_type": "code",
   "execution_count": 2,
   "metadata": {},
   "outputs": [
    {
     "name": "stdout",
     "output_type": "stream",
     "text": [
      "00167.pts\n"
     ]
    }
   ],
   "source": [
    "number = '167'\n",
    "a = \"%05d%s\" % (int(number),\".pts\")\n",
    "print(a)"
   ]
  },
  {
   "cell_type": "code",
   "execution_count": 131,
   "metadata": {},
   "outputs": [],
   "source": [
    "dataDir = '/gpfs/commons/groups/gursoy_lab/ajoglekar/Projects/2023_03_01_multiwayInteractions/2023_03_01_v0_dataGathering/v0_hypergraphSimulations/getMultiwayInteractions_fromBPChains/v3.multiwayConstraints'\n",
    "inputDir = f'{dataDir}/inputData/'\n",
    "\n",
    "chainDir = 'cell_1_10000_chains_reconstructed_800/'\n",
    "outDir = 'cell1_output/'"
   ]
  },
  {
   "cell_type": "code",
   "execution_count": 132,
   "metadata": {},
   "outputs": [],
   "source": [
    "int1 = [[1,20,30], [5,9,15], [1,22,35,49], [5,11,20,25,40]]\n",
    "int2 = [[10,20,30], [30,43,50], [10,15,23,35,43,50]]"
   ]
  },
  {
   "cell_type": "code",
   "execution_count": 83,
   "metadata": {},
   "outputs": [],
   "source": [
    "## Taking from Carlos\n",
    "from scipy.spatial.distance import cdist\n",
    "\n",
    "def chain_from_file(df):\n",
    "    \"\"\"Given x,y,z coordinates of chains, read into array\"\"\"\n",
    "    x = df[df.columns[0]] #takes first column of the df\n",
    "    y = df[df.columns[1]] #similarly for the second column\n",
    "    z = df[df.columns[2]] #similarly for the third column\n",
    "    a = [np.array([x[i], y[i], z[i]]) for i in range(len(x))] #get all the coordinates of the monomers and store them in a list\n",
    "    return a\n",
    "\n",
    "def distMat_from_chains(chain):\n",
    "    \"\"\"Given an array of coordinates, convert into df and \n",
    "    find pairwise distances\"\"\"\n",
    "    df = pd.DataFrame(chain)\n",
    "    distances = cdist(df, df)\n",
    "    return distances\n",
    "\n",
    "## Me from here\n",
    "\n",
    "def interactionsFromDistMat(arr, cutoff):\n",
    "    \"\"\" Identify interactions based on min dist \"\"\"\n",
    "    df = pd.DataFrame(arr.copy())\n",
    "    df[df <= cutoff] = 1\n",
    "    df[df > cutoff] = 0\n",
    "    return(df)\n",
    "\n",
    "def getSliceMax(arr,ixList):\n",
    "    \"\"\"Given an input list of known multiway interactions,\n",
    "    get max of the subset df\"\"\"\n",
    "    subsetArr = distMat[np.ix_(ixList,ixList)]\n",
    "    mVal = subsetArr.max()\n",
    "    return(mVal)\n",
    "\n",
    "def surveyDistMat(arr,multiwayUniv):\n",
    "    \"\"\" Given a distance matrix, find out which\n",
    "    multiway reads that are known and interersting\n",
    "    are present and record max distance between multiway\n",
    "    interaction\"\"\"\n",
    "    maxDists = [getSliceMax(arr,interaction) for interaction in multiwayUniv]\n",
    "    return(maxDists)\n",
    "\n",
    "def checkAllMultiwayLists(arr,listOfMultiwayInts, cutoff):\n",
    "    maxDists = [surveyDistMat(arr,multiwayUniv) for multiwayUniv in listOfMultiwayInts]\n",
    "    trueIntStatus = [int(any([x <= cutoff for x in mD])) for mD in maxDists]\n",
    "    maxVals = flatten(maxDists)\n",
    "    maxVals.extend(trueIntStatus)\n",
    "    return(maxVals)"
   ]
  },
  {
   "cell_type": "code",
   "execution_count": 36,
   "metadata": {},
   "outputs": [],
   "source": [
    "file_name = '01047.pts'\n",
    "df = pd.read_csv(os.path.join(inputDir,chainDir, file_name), sep=\"\\s+\", comment=\"#\", header=None)"
   ]
  },
  {
   "cell_type": "code",
   "execution_count": 37,
   "metadata": {},
   "outputs": [],
   "source": [
    "chain = chain_from_file(df)\n",
    "distMat = distMat_from_chains(chain)\n",
    "intMat = interactionsFromDistMat(distMat, 100)"
   ]
  },
  {
   "cell_type": "code",
   "execution_count": 123,
   "metadata": {},
   "outputs": [],
   "source": [
    "# import glob\n",
    "# import random\n",
    "\n",
    "# distPattern = '*.pts'\n",
    "# matching_files = glob.glob(f'{inputDir}/{chainDir}/{distPattern}')\n",
    "# random.seed(10)\n",
    "# sampleSize = 500\n",
    "\n",
    "# runThroughLL = []\n",
    "\n",
    "# for fName in random.sample(matching_files,sampleSize):\n",
    "#     df = pd.read_csv(fName, sep=\"\\s+\", comment=\"#\", header=None)\n",
    "#     chain = chain_from_file(df)\n",
    "#     distMat = distMat_from_chains(chain)\n",
    "#     listOfMultiwayInts = [int1,int2]\n",
    "#     cutoff = 200\n",
    "#     mvList = checkAllMultiwayLists(distMat,listOfMultiwayInts, cutoff)\n",
    "#     runThroughLL.append(mvList)\n",
    "\n",
    "# colNames = flatten([['Cell1_'+x for x in ['Inter' + str(ix) for ix in range(len(int1))]],\n",
    "#     ['Cell2_'+x for x in ['Inter' + str(ix) for ix in range(len(int2))]],\n",
    "#     ['Cell1_Status','Cell2_Status']])\n",
    "\n",
    "# summaryDF = pd.DataFrame(runThroughLL, columns = colNames)"
   ]
  },
  {
   "cell_type": "code",
   "execution_count": 133,
   "metadata": {},
   "outputs": [],
   "source": [
    "## systematic, not random\n",
    "fileNum = 1000\n",
    "runThroughLL = []\n",
    "\n",
    "for i in range(1,fileNum):\n",
    "    f_id = \"%05d%s\" % (i,\".pts\")\n",
    "    fName = f'{inputDir}/{chainDir}/{f_id}'\n",
    "    df = pd.read_csv(fName, sep=\"\\s+\", comment=\"#\", header=None)\n",
    "    chain = chain_from_file(df)\n",
    "    distMat = distMat_from_chains(chain)\n",
    "    listOfMultiwayInts = [int1,int2]\n",
    "    cutoff = 200\n",
    "    mvList = checkAllMultiwayLists(distMat,listOfMultiwayInts, cutoff)\n",
    "    mvList.insert(0,i)\n",
    "    runThroughLL.append(mvList)\n",
    "\n",
    "\n",
    "colNames = flatten([['fileID'],['Cell1_'+x for x in ['Inter' + str(ix) for ix in range(len(int1))]],\n",
    "    ['Cell2_'+x for x in ['Inter' + str(ix) for ix in range(len(int2))]],\n",
    "    ['Cell1_Status','Cell2_Status']])\n",
    "\n",
    "summaryDF = pd.DataFrame(runThroughLL, columns = colNames)"
   ]
  },
  {
   "cell_type": "code",
   "execution_count": 135,
   "metadata": {},
   "outputs": [],
   "source": [
    "summaryDF.to_csv(f'{dataDir}/cell1_summaryDF_maxDists.csv',index=False)"
   ]
  },
  {
   "cell_type": "code",
   "execution_count": 14,
   "metadata": {},
   "outputs": [
    {
     "data": {
      "text/plain": [
       "<module 'v1_chains' from '/gpfs/commons/groups/gursoy_lab/ajoglekar/Projects/2023_03_01_multiwayInteractions/v0.analysis/scripts/pythonScripts/functions/v1_chains.py'>"
      ]
     },
     "execution_count": 14,
     "metadata": {},
     "output_type": "execute_result"
    }
   ],
   "source": [
    "importlib.reload(v1_chains)"
   ]
  },
  {
   "cell_type": "code",
   "execution_count": 18,
   "metadata": {},
   "outputs": [],
   "source": [
    "creator = v1_chains.IncDFCreator(4, 150, 300, 1)"
   ]
  },
  {
   "cell_type": "code",
   "execution_count": 19,
   "metadata": {},
   "outputs": [
    {
     "name": "stdout",
     "output_type": "stream",
     "text": [
      "(51, 51)\n"
     ]
    }
   ],
   "source": [
    "print(distMat.shape)\n",
    "df = pd.DataFrame(distMat)\n",
    "# A = creator.preprocessMat(df)\n",
    "# B = creator.perRow((A[0],4))"
   ]
  },
  {
   "cell_type": "code",
   "execution_count": 20,
   "metadata": {},
   "outputs": [
    {
     "name": "stdout",
     "output_type": "stream",
     "text": [
      "[1, 20, 30]\n",
      "[[  0.         166.16061739 310.9596747 ]\n",
      " [166.16061739   0.         232.17207152]\n",
      " [310.9596747  232.17207152   0.        ]]\n",
      "\n",
      "[5, 9, 15]\n",
      "[[  0.         149.42605594 107.09991273]\n",
      " [149.42605594   0.         195.66860586]\n",
      " [107.09991273 195.66860586   0.        ]]\n",
      "\n",
      "[1, 22, 35, 49]\n",
      "[[  0.         239.62494031 216.06228593 258.36512907]\n",
      " [239.62494031   0.         148.53602553 109.600942  ]\n",
      " [216.06228593 148.53602553   0.         135.34273594]\n",
      " [258.36512907 109.600942   135.34273594   0.        ]]\n",
      "\n",
      "[5, 11, 20, 25, 40]\n",
      "[[  0.         171.42621595 117.359577   311.94512121 130.16517455]\n",
      " [171.42621595   0.         217.24671225 379.49515865 253.09969743]\n",
      " [117.359577   217.24671225   0.         208.9920596   60.92373944]\n",
      " [311.94512121 379.49515865 208.9920596    0.         188.38615445]\n",
      " [130.16517455 253.09969743  60.92373944 188.38615445   0.        ]]\n",
      "\n"
     ]
    }
   ],
   "source": [
    "for mult in int1:\n",
    "    print(mult)\n",
    "    print(distMat[np.ix_(mult, mult)])\n",
    "    print(\"\")"
   ]
  },
  {
   "cell_type": "code",
   "execution_count": 44,
   "metadata": {},
   "outputs": [
    {
     "name": "stdout",
     "output_type": "stream",
     "text": [
      "[[  0.          30.86462371  70.06896179  70.06896179  77.97795819]\n",
      " [ 30.86462371   0.          93.83519399  93.83519399 100.57071161]\n",
      " [ 70.06896179  93.83519399   0.           0.          17.59649148]\n",
      " [ 70.06896179  93.83519399   0.           0.          17.59649148]\n",
      " [ 77.97795819 100.57071161  17.59649148  17.59649148   0.        ]]\n"
     ]
    }
   ],
   "source": [
    "print(distMat[np.ix_([22, 24, 39, 41, 43],[22, 24, 39, 41, 43])])"
   ]
  },
  {
   "cell_type": "code",
   "execution_count": 21,
   "metadata": {},
   "outputs": [],
   "source": [
    "oneIter = creator.makeIncDF_fromChainDists_single(distMat)"
   ]
  },
  {
   "cell_type": "code",
   "execution_count": 22,
   "metadata": {},
   "outputs": [],
   "source": [
    "exChain = oneIter[0]\n",
    "ratios = oneIter[1]"
   ]
  },
  {
   "cell_type": "code",
   "execution_count": 23,
   "metadata": {},
   "outputs": [
    {
     "name": "stdout",
     "output_type": "stream",
     "text": [
      "227856\n",
      "15.0\n"
     ]
    }
   ],
   "source": [
    "numReads = exChain.shape[1]\n",
    "print(numReads)\n",
    "card = exChain.sum()\n",
    "maxCard = card.max(0)\n",
    "print(maxCard)"
   ]
  },
  {
   "cell_type": "code",
   "execution_count": 24,
   "metadata": {},
   "outputs": [],
   "source": [
    "exChain.index = [\"Bin\"+str(i) for i in exChain.index]"
   ]
  },
  {
   "cell_type": "code",
   "execution_count": 13,
   "metadata": {},
   "outputs": [],
   "source": [
    "# def dfToDict(df,result_dict):\n",
    "#     \"\"\"Takes in an incidence DF and converts to \n",
    "#     a dictionary of hyperedges\"\"\"\n",
    "#     for col in df.columns:\n",
    "#         indices = df.index[df[col] == 1].tolist()\n",
    "#         key = '_'.join(indices)\n",
    "#         result_dict[key] = result_dict.get(key, 0) + 1\n",
    "#     return(result_dict)\n",
    "\n",
    "# inc_dict = {}\n",
    "# inc_dict = dfToDict(df,inc_dict)"
   ]
  },
  {
   "cell_type": "code",
   "execution_count": 42,
   "metadata": {},
   "outputs": [
    {
     "name": "stdout",
     "output_type": "stream",
     "text": [
      "(51, 227856)\n",
      "227856\n",
      "[1.0, 1.0, 1.0, 1.0, 1.0, 1.0, 1.0, 1.0, 1.0, 1.0]\n"
     ]
    }
   ],
   "source": [
    "A = exChain.iloc[0:10,0:10]\n",
    "print(exChain.shape)\n",
    "print(len(ratios))\n",
    "print(ratios[0:10])\n",
    "# inc_dict = {}\n",
    "# inc_dict = v1_chains.dfToDict(A,inc_dict)\n",
    "# inc_dict"
   ]
  },
  {
   "cell_type": "code",
   "execution_count": 25,
   "metadata": {},
   "outputs": [],
   "source": [
    "inc_dict = {}\n",
    "inc_dict = chains.dfToDict(exChain,inc_dict)\n",
    "\n",
    "iDF = chains.dictToDF(inc_dict)"
   ]
  },
  {
   "cell_type": "code",
   "execution_count": 26,
   "metadata": {},
   "outputs": [],
   "source": [
    "A = [\"_\".join([\"Bin\"+str(j) for j in i]) for i in int1]\n",
    "B = [\"_\".join([\"Bin\"+str(j) for j in i]) for i in int2]"
   ]
  },
  {
   "cell_type": "code",
   "execution_count": 27,
   "metadata": {},
   "outputs": [
    {
     "name": "stdout",
     "output_type": "stream",
     "text": [
      "[False, True, False, False]\n",
      "[False, False, False]\n"
     ]
    }
   ],
   "source": [
    "print([x in inc_dict for x in A])\n",
    "print([x in inc_dict for x in B])"
   ]
  },
  {
   "cell_type": "code",
   "execution_count": 3,
   "metadata": {},
   "outputs": [],
   "source": [
    "file_path = os.path.join(dataDir,outDir, 'incDict_1_150_300_1044.pkl')\n",
    "with open(file_path,'rb') as f:\n",
    "    genDict = pickle.load(f)\n"
   ]
  },
  {
   "cell_type": "code",
   "execution_count": 15,
   "metadata": {},
   "outputs": [],
   "source": [
    "final_result_dict = {}\n",
    "final_result_dict = v1_chains.combineChunkedDicts(genDict,final_result_dict)"
   ]
  },
  {
   "cell_type": "markdown",
   "metadata": {},
   "source": [
    "### Read in generated pkl files and plot"
   ]
  },
  {
   "cell_type": "code",
   "execution_count": 48,
   "metadata": {},
   "outputs": [
    {
     "data": {
      "text/plain": [
       "(51, 89135)"
      ]
     },
     "execution_count": 48,
     "metadata": {},
     "output_type": "execute_result"
    }
   ],
   "source": [
    "pklDir = 'cell1_output/'\n",
    "i = 1050\n",
    "filePath = f'{dataDir}/{pklDir}/incDF_1_110_300_{i}.pkl'\n",
    "f = pd.read_pickle(filePath)\n",
    "print(f.iloc[0:10,0:10])\n",
    "f.shape"
   ]
  },
  {
   "cell_type": "code",
   "execution_count": 7,
   "metadata": {},
   "outputs": [
    {
     "data": {
      "text/plain": [
       "(49, 213647)"
      ]
     },
     "execution_count": 7,
     "metadata": {},
     "output_type": "execute_result"
    }
   ],
   "source": [
    "#gD = chains.dictToDF(genDict)\n",
    "gD.shape"
   ]
  },
  {
   "cell_type": "code",
   "execution_count": 8,
   "metadata": {},
   "outputs": [
    {
     "data": {
      "text/plain": [
       "(49, 49)"
      ]
     },
     "execution_count": 8,
     "metadata": {},
     "output_type": "execute_result"
    }
   ],
   "source": [
    "p = makeHiC_fromInc(gD)\n",
    "p.shape"
   ]
  },
  {
   "cell_type": "code",
   "execution_count": 9,
   "metadata": {},
   "outputs": [
    {
     "data": {
      "image/png": "[encoded data removed]",
      "text/plain": [
       "<Figure size 600x400 with 2 Axes>"
      ]
     },
     "metadata": {},
     "output_type": "display_data"
    }
   ],
   "source": [
    "import matplotlib.pyplot as plt\n",
    "import seaborn as sns\n",
    "from matplotlib.colors import LogNorm\n",
    "\n",
    "plt.figure(figsize=(6, 4))\n",
    "im = plt.imshow(p, cmap=\"YlOrRd\") #norm = LogNorm(vmax=4*10**4, vmin = 0.01)\n",
    "plt.colorbar(im, fraction=0.046, pad=0.04, label='balanced');\n",
    "plt.title(\"Projection matrix\")\n",
    "plt.show()"
   ]
  },
  {
   "cell_type": "code",
   "execution_count": null,
   "metadata": {},
   "outputs": [],
   "source": [
    "## Read in example file\n",
    "projMat = None\n",
    "numFiles = 1000\n",
    "counter = 0\n",
    "for i in range(1000,numFiles):\n",
    "    filePath = f'{dataDir}/{pklDir}/incDF_1_110_300_{i}.pkl'\n",
    "    if os.path.isfile(filePath):\n",
    "        counter += 1\n",
    "        if projMat is None:\n",
    "            projMat = np.loadtxt(filePath)\n",
    "        else:\n",
    "            projMat += np.loadtxt(filePath)\n",
    "if projMat is not None:\n",
    "    projMat = projMat.astype('float64')\n",
    "    projMat /= counter\n",
    "\n",
    "nrow = projMat.shape[0]"
   ]
  }
 ],
 "metadata": {
  "kernelspec": {
   "display_name": "hypergraph_poreC",
   "language": "python",
   "name": "python3"
  },
  "language_info": {
   "codemirror_mode": {
    "name": "ipython",
    "version": 3
   },
   "file_extension": ".py",
   "mimetype": "text/x-python",
   "name": "python",
   "nbconvert_exporter": "python",
   "pygments_lexer": "ipython3",
   "version": "3.10.9"
  }
 },
 "nbformat": 4,
 "nbformat_minor": 2
}
