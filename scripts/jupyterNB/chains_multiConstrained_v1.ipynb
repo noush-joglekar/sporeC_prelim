{
 "cells": [
  {
   "cell_type": "code",
   "execution_count": 47,
   "metadata": {},
   "outputs": [],
   "source": [
    "import importlib\n",
    "import numpy as np\n",
    "import argparse\n",
    "import pickle\n",
    "import os\n",
    "import pandas as pd\n",
    "\n",
    "import sys\n",
    "sys.path.append('/gpfs/commons/groups/gursoy_lab/ajoglekar/Projects/2023_03_01_multiwayInteractions/v0.analysis/scripts/pythonScripts/functions/')\n",
    "\n",
    "from v1_chains import IncDFCreator, increaseIncDF_binSize\n",
    "import v1_chains\n",
    "\n",
    "from incidenceToProjection import makeHiC_fromInc\n",
    "\n",
    "import chains"
   ]
  },
  {
   "cell_type": "code",
   "execution_count": 4,
   "metadata": {},
   "outputs": [
    {
     "name": "stdout",
     "output_type": "stream",
     "text": [
      "00273.pts\n"
     ]
    }
   ],
   "source": [
    "number = '273'\n",
    "a = \"%05d%s\" % (int(number),\".pts\")\n",
    "print(a)"
   ]
  },
  {
   "cell_type": "code",
   "execution_count": 2,
   "metadata": {},
   "outputs": [],
   "source": [
    "dataDir = '/gpfs/commons/groups/gursoy_lab/ajoglekar/Projects/2023_03_01_multiwayInteractions/2023_03_01_v0_dataGathering/v0_hypergraphSimulations/getMultiwayInteractions_fromBPChains/v3.multiwayConstraints'\n",
    "inputDir = f'{dataDir}/inputData/'\n",
    "\n",
    "chainDir = 'cell_1_10000_chains_reconstructed/'"
   ]
  },
  {
   "cell_type": "code",
   "execution_count": 3,
   "metadata": {},
   "outputs": [],
   "source": [
    "int1 = [[1,20,30], [5,9,15], [1,22,35,49], [5,11,20,25,40]]\n",
    "int2 = [[10,20,30], [30,43,50], [10,15,23,35,43,50]]"
   ]
  },
  {
   "cell_type": "code",
   "execution_count": 4,
   "metadata": {},
   "outputs": [],
   "source": [
    "## Taking from Carlos\n",
    "from scipy.spatial.distance import cdist\n",
    "\n",
    "def chain_from_file(df):\n",
    "    \"\"\"Given x,y,z coordinates of chains, read into array\"\"\"\n",
    "    x = df[df.columns[0]] #takes first column of the df\n",
    "    y = df[df.columns[1]] #similarly for the second column\n",
    "    z = df[df.columns[2]] #similarly for the third column\n",
    "    a = [np.array([x[i], y[i], z[i]]) for i in range(len(x))] #get all the coordinates of the monomers and store them in a list\n",
    "    return a\n",
    "\n",
    "def interactions_from_chains(chain):\n",
    "    \"\"\"Given an array of coordinates, convert into df and \n",
    "    find pairwise distances\"\"\"\n",
    "    df = pd.DataFrame(chain)\n",
    "    distances = cdist(df, df)\n",
    "    return distances"
   ]
  },
  {
   "cell_type": "code",
   "execution_count": 5,
   "metadata": {},
   "outputs": [],
   "source": [
    "file_name = '04991.pts'\n",
    "df = pd.read_csv(os.path.join(inputDir,chainDir, file_name), sep=\"\\s+\", comment=\"#\", header=None)"
   ]
  },
  {
   "cell_type": "code",
   "execution_count": 6,
   "metadata": {},
   "outputs": [],
   "source": [
    "chain = chain_from_file(df)\n",
    "distMat = interactions_from_chains(chain)"
   ]
  },
  {
   "cell_type": "code",
   "execution_count": 8,
   "metadata": {},
   "outputs": [
    {
     "data": {
      "text/plain": [
       "array([[  0.        , 150.        , 212.13203026, 189.88247098,\n",
       "        211.28991041, 162.44758362, 205.22813345, 208.11321915,\n",
       "        240.65718215, 245.34082348],\n",
       "       [150.        ,   0.        , 149.99999421, 223.87016949,\n",
       "        316.15807161, 292.32125722, 266.79783874, 295.59027722,\n",
       "        255.7652817 , 274.21181533],\n",
       "       [212.13203026, 149.99999421,   0.        , 150.00000081,\n",
       "        262.35376382, 293.31623794, 267.88763592, 240.74117433,\n",
       "        202.77187753, 161.99286883],\n",
       "       [189.88247098, 223.87016949, 150.00000081,   0.        ,\n",
       "        150.00000346, 241.64918663, 296.10150907, 202.7718821 ,\n",
       "        263.20440158, 156.23918071],\n",
       "       [211.28991041, 316.15807161, 262.35376382, 150.00000346,\n",
       "          0.        , 150.00000195, 257.16645556, 123.47093251,\n",
       "        259.29652663, 167.43003662],\n",
       "       [162.44758362, 292.32125722, 293.31623794, 241.64918663,\n",
       "        150.00000195,   0.        , 149.99999452, 112.42472549,\n",
       "        214.33508223, 222.43947723],\n",
       "       [205.22813345, 266.79783874, 267.88763592, 296.10150907,\n",
       "        257.16645556, 149.99999452,   0.        , 149.99999486,\n",
       "        110.66979705, 219.74045965],\n",
       "       [208.11321915, 295.59027722, 240.74117433, 202.7718821 ,\n",
       "        123.47093251, 112.42472549, 149.99999486,   0.        ,\n",
       "        149.99999767, 122.51070273],\n",
       "       [240.65718215, 255.7652817 , 202.77187753, 263.20440158,\n",
       "        259.29652663, 214.33508223, 110.66979705, 149.99999767,\n",
       "          0.        , 150.00000722],\n",
       "       [245.34082348, 274.21181533, 161.99286883, 156.23918071,\n",
       "        167.43003662, 222.43947723, 219.74045965, 122.51070273,\n",
       "        150.00000722,   0.        ]])"
      ]
     },
     "execution_count": 8,
     "metadata": {},
     "output_type": "execute_result"
    }
   ],
   "source": [
    "distMat[0:10,0:10]"
   ]
  },
  {
   "cell_type": "code",
   "execution_count": 36,
   "metadata": {},
   "outputs": [
    {
     "data": {
      "text/plain": [
       "<module 'v1_chains' from '/gpfs/commons/groups/gursoy_lab/ajoglekar/Projects/2023_03_01_multiwayInteractions/v0.analysis/scripts/pythonScripts/functions/v1_chains.py'>"
      ]
     },
     "execution_count": 36,
     "metadata": {},
     "output_type": "execute_result"
    }
   ],
   "source": [
    "importlib.reload(v1_chains)"
   ]
  },
  {
   "cell_type": "code",
   "execution_count": 37,
   "metadata": {},
   "outputs": [],
   "source": [
    "creator = v1_chains.IncDFCreator(4, 110, 300, 1)"
   ]
  },
  {
   "cell_type": "code",
   "execution_count": 38,
   "metadata": {},
   "outputs": [
    {
     "name": "stdout",
     "output_type": "stream",
     "text": [
      "(51, 51)\n",
      "[150.00000195 257.16645556 123.47093251 259.29652663 167.43003662\n",
      " 279.21488441 278.99549333 247.77651121 219.24344204 127.5524992\n",
      " 182.93579021 265.67702264 278.54872317 225.43274191 266.10931688\n",
      " 214.61734354 197.86377334  74.35037633 213.60029308  96.4120117\n",
      " 214.25113823 330.57581238 479.54875499 591.75268015 573.96035168\n",
      " 603.9775574  610.64242445 603.9775574  610.64242445 606.17397111\n",
      " 457.32268391 324.49759047 181.0596039  132.84374424  68.54673153\n",
      " 123.26998994  68.54673153 127.56678316  60.28363927 179.28479222\n",
      " 300.30967701 203.99866434 236.65185286 234.98035762 236.03257828\n",
      " 240.65545678]\n",
      "[4, 22, 24, 39, 41, 43]\n",
      "(4, 22)\n",
      "[[ 0.         74.35037633]\n",
      " [ 0.          0.        ]]\n",
      "(4, 24)\n",
      "[[ 0.        96.4120117]\n",
      " [ 0.         0.       ]]\n",
      "(4, 39)\n",
      "[[ 0.         68.54673153]\n",
      " [ 0.          0.        ]]\n",
      "(4, 41)\n",
      "[[ 0.         68.54673153]\n",
      " [ 0.          0.        ]]\n",
      "(4, 43)\n",
      "[[ 0.         60.28363927]\n",
      " [ 0.          0.        ]]\n",
      "(22, 24)\n",
      "[[ 0.         30.86462371]\n",
      " [ 0.          0.        ]]\n",
      "(22, 39)\n",
      "[[ 0.         70.06896179]\n",
      " [ 0.          0.        ]]\n",
      "(22, 41)\n",
      "[[ 0.         70.06896179]\n",
      " [ 0.          0.        ]]\n",
      "(22, 43)\n",
      "[[ 0.         77.97795819]\n",
      " [ 0.          0.        ]]\n",
      "(24, 39)\n",
      "[[ 0.         93.83519399]\n",
      " [ 0.          0.        ]]\n",
      "(24, 41)\n",
      "[[ 0.         93.83519399]\n",
      " [ 0.          0.        ]]\n",
      "(24, 43)\n",
      "[[  0.         100.57071161]\n",
      " [  0.           0.        ]]\n",
      "(39, 41)\n",
      "[[0. 0.]\n",
      " [0. 0.]]\n",
      "(39, 43)\n",
      "[[ 0.         17.59649148]\n",
      " [ 0.          0.        ]]\n",
      "(41, 43)\n",
      "[[ 0.         17.59649148]\n",
      " [ 0.          0.        ]]\n",
      "(4, 22, 24)\n",
      "[[ 0.         74.35037633 96.4120117 ]\n",
      " [ 0.          0.         30.86462371]\n",
      " [ 0.          0.          0.        ]]\n",
      "(4, 22, 39)\n",
      "[[ 0.         74.35037633 68.54673153]\n",
      " [ 0.          0.         70.06896179]\n",
      " [ 0.          0.          0.        ]]\n",
      "(4, 22, 41)\n",
      "[[ 0.         74.35037633 68.54673153]\n",
      " [ 0.          0.         70.06896179]\n",
      " [ 0.          0.          0.        ]]\n",
      "(4, 22, 43)\n",
      "[[ 0.         74.35037633 60.28363927]\n",
      " [ 0.          0.         77.97795819]\n",
      " [ 0.          0.          0.        ]]\n",
      "(4, 24, 39)\n",
      "[[ 0.         96.4120117  68.54673153]\n",
      " [ 0.          0.         93.83519399]\n",
      " [ 0.          0.          0.        ]]\n",
      "(4, 24, 41)\n",
      "[[ 0.         96.4120117  68.54673153]\n",
      " [ 0.          0.         93.83519399]\n",
      " [ 0.          0.          0.        ]]\n",
      "(4, 24, 43)\n",
      "[[  0.          96.4120117   60.28363927]\n",
      " [  0.           0.         100.57071161]\n",
      " [  0.           0.           0.        ]]\n",
      "(4, 39, 41)\n",
      "[[ 0.         68.54673153 68.54673153]\n",
      " [ 0.          0.          0.        ]\n",
      " [ 0.          0.          0.        ]]\n",
      "(4, 39, 43)\n",
      "[[ 0.         68.54673153 60.28363927]\n",
      " [ 0.          0.         17.59649148]\n",
      " [ 0.          0.          0.        ]]\n",
      "(4, 41, 43)\n",
      "[[ 0.         68.54673153 60.28363927]\n",
      " [ 0.          0.         17.59649148]\n",
      " [ 0.          0.          0.        ]]\n",
      "(22, 24, 39)\n",
      "[[ 0.         30.86462371 70.06896179]\n",
      " [ 0.          0.         93.83519399]\n",
      " [ 0.          0.          0.        ]]\n",
      "(22, 24, 41)\n",
      "[[ 0.         30.86462371 70.06896179]\n",
      " [ 0.          0.         93.83519399]\n",
      " [ 0.          0.          0.        ]]\n",
      "(22, 24, 43)\n",
      "[[  0.          30.86462371  77.97795819]\n",
      " [  0.           0.         100.57071161]\n",
      " [  0.           0.           0.        ]]\n",
      "(22, 39, 41)\n",
      "[[ 0.         70.06896179 70.06896179]\n",
      " [ 0.          0.          0.        ]\n",
      " [ 0.          0.          0.        ]]\n",
      "(22, 39, 43)\n",
      "[[ 0.         70.06896179 77.97795819]\n",
      " [ 0.          0.         17.59649148]\n",
      " [ 0.          0.          0.        ]]\n",
      "(22, 41, 43)\n",
      "[[ 0.         70.06896179 77.97795819]\n",
      " [ 0.          0.         17.59649148]\n",
      " [ 0.          0.          0.        ]]\n",
      "(24, 39, 41)\n",
      "[[ 0.         93.83519399 93.83519399]\n",
      " [ 0.          0.          0.        ]\n",
      " [ 0.          0.          0.        ]]\n",
      "(24, 39, 43)\n",
      "[[  0.          93.83519399 100.57071161]\n",
      " [  0.           0.          17.59649148]\n",
      " [  0.           0.           0.        ]]\n",
      "(24, 41, 43)\n",
      "[[  0.          93.83519399 100.57071161]\n",
      " [  0.           0.          17.59649148]\n",
      " [  0.           0.           0.        ]]\n",
      "(39, 41, 43)\n",
      "[[ 0.          0.         17.59649148]\n",
      " [ 0.          0.         17.59649148]\n",
      " [ 0.          0.          0.        ]]\n",
      "(4, 22, 24, 39)\n",
      "[[ 0.         74.35037633 96.4120117  68.54673153]\n",
      " [ 0.          0.         30.86462371 70.06896179]\n",
      " [ 0.          0.          0.         93.83519399]\n",
      " [ 0.          0.          0.          0.        ]]\n",
      "(4, 22, 24, 41)\n",
      "[[ 0.         74.35037633 96.4120117  68.54673153]\n",
      " [ 0.          0.         30.86462371 70.06896179]\n",
      " [ 0.          0.          0.         93.83519399]\n",
      " [ 0.          0.          0.          0.        ]]\n",
      "(4, 22, 24, 43)\n",
      "[[  0.          74.35037633  96.4120117   60.28363927]\n",
      " [  0.           0.          30.86462371  77.97795819]\n",
      " [  0.           0.           0.         100.57071161]\n",
      " [  0.           0.           0.           0.        ]]\n",
      "(4, 22, 39, 41)\n",
      "[[ 0.         74.35037633 68.54673153 68.54673153]\n",
      " [ 0.          0.         70.06896179 70.06896179]\n",
      " [ 0.          0.          0.          0.        ]\n",
      " [ 0.          0.          0.          0.        ]]\n",
      "(4, 22, 39, 43)\n",
      "[[ 0.         74.35037633 68.54673153 60.28363927]\n",
      " [ 0.          0.         70.06896179 77.97795819]\n",
      " [ 0.          0.          0.         17.59649148]\n",
      " [ 0.          0.          0.          0.        ]]\n",
      "(4, 22, 41, 43)\n",
      "[[ 0.         74.35037633 68.54673153 60.28363927]\n",
      " [ 0.          0.         70.06896179 77.97795819]\n",
      " [ 0.          0.          0.         17.59649148]\n",
      " [ 0.          0.          0.          0.        ]]\n",
      "(4, 24, 39, 41)\n",
      "[[ 0.         96.4120117  68.54673153 68.54673153]\n",
      " [ 0.          0.         93.83519399 93.83519399]\n",
      " [ 0.          0.          0.          0.        ]\n",
      " [ 0.          0.          0.          0.        ]]\n",
      "(4, 24, 39, 43)\n",
      "[[  0.          96.4120117   68.54673153  60.28363927]\n",
      " [  0.           0.          93.83519399 100.57071161]\n",
      " [  0.           0.           0.          17.59649148]\n",
      " [  0.           0.           0.           0.        ]]\n",
      "(4, 24, 41, 43)\n",
      "[[  0.          96.4120117   68.54673153  60.28363927]\n",
      " [  0.           0.          93.83519399 100.57071161]\n",
      " [  0.           0.           0.          17.59649148]\n",
      " [  0.           0.           0.           0.        ]]\n",
      "(4, 39, 41, 43)\n",
      "[[ 0.         68.54673153 68.54673153 60.28363927]\n",
      " [ 0.          0.          0.         17.59649148]\n",
      " [ 0.          0.          0.         17.59649148]\n",
      " [ 0.          0.          0.          0.        ]]\n",
      "(22, 24, 39, 41)\n",
      "[[ 0.         30.86462371 70.06896179 70.06896179]\n",
      " [ 0.          0.         93.83519399 93.83519399]\n",
      " [ 0.          0.          0.          0.        ]\n",
      " [ 0.          0.          0.          0.        ]]\n",
      "(22, 24, 39, 43)\n",
      "[[  0.          30.86462371  70.06896179  77.97795819]\n",
      " [  0.           0.          93.83519399 100.57071161]\n",
      " [  0.           0.           0.          17.59649148]\n",
      " [  0.           0.           0.           0.        ]]\n",
      "(22, 24, 41, 43)\n",
      "[[  0.          30.86462371  70.06896179  77.97795819]\n",
      " [  0.           0.          93.83519399 100.57071161]\n",
      " [  0.           0.           0.          17.59649148]\n",
      " [  0.           0.           0.           0.        ]]\n",
      "(22, 39, 41, 43)\n",
      "[[ 0.         70.06896179 70.06896179 77.97795819]\n",
      " [ 0.          0.          0.         17.59649148]\n",
      " [ 0.          0.          0.         17.59649148]\n",
      " [ 0.          0.          0.          0.        ]]\n",
      "(24, 39, 41, 43)\n",
      "[[  0.          93.83519399  93.83519399 100.57071161]\n",
      " [  0.           0.           0.          17.59649148]\n",
      " [  0.           0.           0.          17.59649148]\n",
      " [  0.           0.           0.           0.        ]]\n",
      "(4, 22, 24, 39, 41)\n",
      "[[ 0.         74.35037633 96.4120117  68.54673153 68.54673153]\n",
      " [ 0.          0.         30.86462371 70.06896179 70.06896179]\n",
      " [ 0.          0.          0.         93.83519399 93.83519399]\n",
      " [ 0.          0.          0.          0.          0.        ]\n",
      " [ 0.          0.          0.          0.          0.        ]]\n",
      "(4, 22, 24, 39, 43)\n",
      "[[  0.          74.35037633  96.4120117   68.54673153  60.28363927]\n",
      " [  0.           0.          30.86462371  70.06896179  77.97795819]\n",
      " [  0.           0.           0.          93.83519399 100.57071161]\n",
      " [  0.           0.           0.           0.          17.59649148]\n",
      " [  0.           0.           0.           0.           0.        ]]\n",
      "(4, 22, 24, 41, 43)\n",
      "[[  0.          74.35037633  96.4120117   68.54673153  60.28363927]\n",
      " [  0.           0.          30.86462371  70.06896179  77.97795819]\n",
      " [  0.           0.           0.          93.83519399 100.57071161]\n",
      " [  0.           0.           0.           0.          17.59649148]\n",
      " [  0.           0.           0.           0.           0.        ]]\n",
      "(4, 22, 39, 41, 43)\n",
      "[[ 0.         74.35037633 68.54673153 68.54673153 60.28363927]\n",
      " [ 0.          0.         70.06896179 70.06896179 77.97795819]\n",
      " [ 0.          0.          0.          0.         17.59649148]\n",
      " [ 0.          0.          0.          0.         17.59649148]\n",
      " [ 0.          0.          0.          0.          0.        ]]\n",
      "(4, 24, 39, 41, 43)\n",
      "[[  0.          96.4120117   68.54673153  68.54673153  60.28363927]\n",
      " [  0.           0.          93.83519399  93.83519399 100.57071161]\n",
      " [  0.           0.           0.           0.          17.59649148]\n",
      " [  0.           0.           0.           0.          17.59649148]\n",
      " [  0.           0.           0.           0.           0.        ]]\n",
      "(22, 24, 39, 41, 43)\n",
      "[[  0.          30.86462371  70.06896179  70.06896179  77.97795819]\n",
      " [  0.           0.          93.83519399  93.83519399 100.57071161]\n",
      " [  0.           0.           0.           0.          17.59649148]\n",
      " [  0.           0.           0.           0.          17.59649148]\n",
      " [  0.           0.           0.           0.           0.        ]]\n"
     ]
    }
   ],
   "source": [
    "print(distMat.shape)\n",
    "df = pd.DataFrame(distMat)\n",
    "A = creator.preprocessMat(df)\n",
    "B = creator.perRow((A[0],4))"
   ]
  },
  {
   "cell_type": "code",
   "execution_count": 43,
   "metadata": {},
   "outputs": [
    {
     "name": "stdout",
     "output_type": "stream",
     "text": [
      "[1, 20, 30]\n",
      "[[  0.         141.31006448 516.2266696 ]\n",
      " [141.31006448   0.         465.40301735]\n",
      " [516.2266696  465.40301735   0.        ]]\n",
      "\n",
      "[5, 9, 15]\n",
      "[[  0.         222.43947723 248.15968214]\n",
      " [222.43947723   0.         173.80726415]\n",
      " [248.15968214 173.80726415   0.        ]]\n",
      "\n",
      "[1, 22, 35, 49]\n",
      "[[  0.         248.97845784 295.33677763 517.849509  ]\n",
      " [248.97845784   0.         389.64427164 299.14635459]\n",
      " [295.33677763 389.64427164   0.         680.5578173 ]\n",
      " [517.849509   299.14635459 680.5578173    0.        ]]\n",
      "\n",
      "[5, 11, 20, 25, 40]\n",
      "[[  0.         250.51885942 237.06003055 245.74265237 233.54226316]\n",
      " [250.51885942   0.         202.80833243 118.9146936  272.97938084]\n",
      " [237.06003055 202.80833243   0.         119.44308644 141.45429125]\n",
      " [245.74265237 118.9146936  119.44308644   0.         167.78157952]\n",
      " [233.54226316 272.97938084 141.45429125 167.78157952   0.        ]]\n",
      "\n"
     ]
    }
   ],
   "source": [
    "for mult in int1:\n",
    "    print(mult)\n",
    "    print(distMat[np.ix_(mult, mult)])\n",
    "    print(\"\")"
   ]
  },
  {
   "cell_type": "code",
   "execution_count": 44,
   "metadata": {},
   "outputs": [
    {
     "name": "stdout",
     "output_type": "stream",
     "text": [
      "[[  0.          30.86462371  70.06896179  70.06896179  77.97795819]\n",
      " [ 30.86462371   0.          93.83519399  93.83519399 100.57071161]\n",
      " [ 70.06896179  93.83519399   0.           0.          17.59649148]\n",
      " [ 70.06896179  93.83519399   0.           0.          17.59649148]\n",
      " [ 77.97795819 100.57071161  17.59649148  17.59649148   0.        ]]\n"
     ]
    }
   ],
   "source": [
    "print(distMat[np.ix_([22, 24, 39, 41, 43],[22, 24, 39, 41, 43])])"
   ]
  },
  {
   "cell_type": "code",
   "execution_count": 10,
   "metadata": {},
   "outputs": [],
   "source": [
    "oneIter = creator.makeIncDF_fromChainDists_single(distMat)"
   ]
  },
  {
   "cell_type": "code",
   "execution_count": null,
   "metadata": {},
   "outputs": [],
   "source": []
  },
  {
   "cell_type": "code",
   "execution_count": 11,
   "metadata": {},
   "outputs": [],
   "source": [
    "exChain = oneIter[0]\n",
    "ratios = oneIter[1]"
   ]
  },
  {
   "cell_type": "code",
   "execution_count": 12,
   "metadata": {},
   "outputs": [
    {
     "name": "stdout",
     "output_type": "stream",
     "text": [
      "2261\n",
      "8.0\n"
     ]
    }
   ],
   "source": [
    "numReads = exChain.shape[1]\n",
    "print(numReads)\n",
    "card = exChain.sum()\n",
    "maxCard = card.max(0)\n",
    "print(maxCard)"
   ]
  },
  {
   "cell_type": "code",
   "execution_count": 13,
   "metadata": {},
   "outputs": [],
   "source": [
    "exChain.index = [\"Bin\"+str(i) for i in exChain.index]"
   ]
  },
  {
   "cell_type": "code",
   "execution_count": 13,
   "metadata": {},
   "outputs": [],
   "source": [
    "# def dfToDict(df,result_dict):\n",
    "#     \"\"\"Takes in an incidence DF and converts to \n",
    "#     a dictionary of hyperedges\"\"\"\n",
    "#     for col in df.columns:\n",
    "#         indices = df.index[df[col] == 1].tolist()\n",
    "#         key = '_'.join(indices)\n",
    "#         result_dict[key] = result_dict.get(key, 0) + 1\n",
    "#     return(result_dict)\n",
    "\n",
    "# inc_dict = {}\n",
    "# inc_dict = dfToDict(df,inc_dict)"
   ]
  },
  {
   "cell_type": "code",
   "execution_count": 14,
   "metadata": {},
   "outputs": [],
   "source": [
    "inc_dict = {}\n",
    "inc_dict = chains.dfToDict(exChain,inc_dict)\n",
    "\n",
    "iDF = chains.dictToDF(inc_dict)"
   ]
  },
  {
   "cell_type": "code",
   "execution_count": 15,
   "metadata": {},
   "outputs": [],
   "source": [
    "A = [\"_\".join([\"Bin\"+str(j) for j in i]) for i in int1]\n",
    "B = [\"_\".join([\"Bin\"+str(j) for j in i]) for i in int2]"
   ]
  },
  {
   "cell_type": "code",
   "execution_count": 16,
   "metadata": {},
   "outputs": [
    {
     "name": "stdout",
     "output_type": "stream",
     "text": [
      "[False, False, False, False]\n",
      "[False, False, False]\n"
     ]
    }
   ],
   "source": [
    "print([x in inc_dict for x in A])\n",
    "print([x in inc_dict for x in B])"
   ]
  },
  {
   "cell_type": "markdown",
   "metadata": {},
   "source": [
    "### Read in generated pkl files and plot"
   ]
  },
  {
   "cell_type": "code",
   "execution_count": 48,
   "metadata": {},
   "outputs": [
    {
     "data": {
      "text/plain": [
       "(51, 89135)"
      ]
     },
     "execution_count": 48,
     "metadata": {},
     "output_type": "execute_result"
    }
   ],
   "source": [
    "pklDir = 'cell1_output/'\n",
    "i = 1050\n",
    "filePath = f'{dataDir}/{pklDir}/incDF_1_110_300_{i}.pkl'\n",
    "f = pd.read_pickle(filePath)\n",
    "print(f.iloc[0:10,0:10])\n",
    "f.shape"
   ]
  },
  {
   "cell_type": "code",
   "execution_count": 50,
   "metadata": {},
   "outputs": [
    {
     "data": {
      "text/plain": [
       "(51, 51)"
      ]
     },
     "execution_count": 50,
     "metadata": {},
     "output_type": "execute_result"
    }
   ],
   "source": [
    "#p = makeHiC_fromInc(f)\n",
    "p.shape"
   ]
  },
  {
   "cell_type": "code",
   "execution_count": 57,
   "metadata": {},
   "outputs": [
    {
     "data": {
      "image/png": "[encoded data removed]",
      "text/plain": [
       "<Figure size 600x400 with 2 Axes>"
      ]
     },
     "metadata": {},
     "output_type": "display_data"
    }
   ],
   "source": [
    "import matplotlib.pyplot as plt\n",
    "import seaborn as sns\n",
    "from matplotlib.colors import LogNorm\n",
    "\n",
    "plt.figure(figsize=(6, 4))\n",
    "im = plt.imshow(p, cmap=\"YlOrRd\") #norm = LogNorm(vmax=4*10**4, vmin = 0.01)\n",
    "plt.colorbar(im, fraction=0.046, pad=0.04, label='balanced');\n",
    "plt.title(\"Projection matrix\")\n",
    "plt.show()"
   ]
  },
  {
   "cell_type": "code",
   "execution_count": null,
   "metadata": {},
   "outputs": [],
   "source": [
    "## Read in example file\n",
    "projMat = None\n",
    "numFiles = 1000\n",
    "counter = 0\n",
    "for i in range(1000,numFiles):\n",
    "    filePath = f'{dataDir}/{pklDir}/incDF_1_110_300_{i}.pkl'\n",
    "    if os.path.isfile(filePath):\n",
    "        counter += 1\n",
    "        if projMat is None:\n",
    "            projMat = np.loadtxt(filePath)\n",
    "        else:\n",
    "            projMat += np.loadtxt(filePath)\n",
    "if projMat is not None:\n",
    "    projMat = projMat.astype('float64')\n",
    "    projMat /= counter\n",
    "\n",
    "nrow = projMat.shape[0]"
   ]
  }
 ],
 "metadata": {
  "kernelspec": {
   "display_name": "hypergraph_poreC",
   "language": "python",
   "name": "python3"
  },
  "language_info": {
   "codemirror_mode": {
    "name": "ipython",
    "version": 3
   },
   "file_extension": ".py",
   "mimetype": "text/x-python",
   "name": "python",
   "nbconvert_exporter": "python",
   "pygments_lexer": "ipython3",
   "version": "3.10.9"
  }
 },
 "nbformat": 4,
 "nbformat_minor": 2
}
