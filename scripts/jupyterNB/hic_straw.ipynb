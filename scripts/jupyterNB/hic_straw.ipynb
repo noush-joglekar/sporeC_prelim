{
 "cells": [
  {
   "cell_type": "code",
   "execution_count": 1,
   "metadata": {},
   "outputs": [],
   "source": [
    "import hicstraw\n",
    "import numpy as np"
   ]
  },
  {
   "cell_type": "code",
   "execution_count": 2,
   "metadata": {},
   "outputs": [],
   "source": [
    "hic_file = '/gpfs/commons/groups/gursoy_lab/ajoglekar/Projects/2023_02_28_spliC/2024_01_22_Caesar/imputedMatrices_download/K562.hic'"
   ]
  },
  {
   "cell_type": "code",
   "execution_count": 3,
   "metadata": {},
   "outputs": [
    {
     "name": "stdout",
     "output_type": "stream",
     "text": [
      "hg38\n",
      "[25000, 10000, 5000, 1000]\n"
     ]
    },
    {
     "name": "stderr",
     "output_type": "stream",
     "text": [
      "Error finding block data\n"
     ]
    }
   ],
   "source": [
    "hic = hicstraw.HiCFile(hic_file)\n",
    "\n",
    "print(hic.getGenomeID())\n",
    "print(hic.getResolutions())\n",
    "\n",
    "matrix_object = hic.getMatrixZoomData('4', '4', \"observed\", \"NONE\", \"NONE\", 25000)\n",
    "# numpy_matrix = matrix_object.getRecordsAsMatrix(60342393, 60402832, 60342393, 60402832)\n",
    "# M = numpy_matrix"
   ]
  },
  {
   "cell_type": "code",
   "execution_count": 5,
   "metadata": {},
   "outputs": [],
   "source": [
    "from hic2cool import hic2cool_convert\n",
    "import cooler\n",
    "import h5py"
   ]
  },
  {
   "cell_type": "code",
   "execution_count": 6,
   "metadata": {},
   "outputs": [
    {
     "name": "stdout",
     "output_type": "stream",
     "text": [
      "##########################\n",
      "### hic2cool / convert ###\n",
      "##########################\n",
      "### Header info from hic\n",
      "... Chromosomes:  ['ALL', 'M', '1', '2', '3', '4', '5', '6', '7', '8', '9', '10', '11', '12', '13', '14', '15', '16', '17', '18', '19', '20', '21', '22', 'X', 'Y']\n",
      "... Resolutions:  [25000, 10000, 5000, 1000]\n",
      "... Normalizations:  []\n",
      "... Genome:  hg38\n",
      "### Converting\n"
     ]
    },
    {
     "name": "stderr",
     "output_type": "stream",
     "text": [
      "!!! WARNING. No normalization vectors found in the hic file.\n"
     ]
    },
    {
     "name": "stdout",
     "output_type": "stream",
     "text": [
      "... Resolution 5000 took: 106.84657526016235 seconds.\n",
      "### Finished! Output written to: /gpfs/commons/groups/gursoy_lab/ajoglekar/Projects/2023_02_28_spliC/2024_01_22_Caesar/imputedMatrices_download/K562.cool\n",
      "... This file is single resolution and NOT higlass compatible. Run with `-r 0` for multi-resolution.\n"
     ]
    }
   ],
   "source": [
    "cool_file = '/gpfs/commons/groups/gursoy_lab/ajoglekar/Projects/2023_02_28_spliC/2024_01_22_Caesar/imputedMatrices_download/K562.cool'\n",
    "hic2cool_convert(hic_file, cool_file, '5000')"
   ]
  },
  {
   "cell_type": "code",
   "execution_count": 8,
   "metadata": {},
   "outputs": [],
   "source": [
    "h5file = h5py.File(cool_file, 'r')\n",
    "my_cooler = cooler.Cooler(h5file)\n",
    "# my_cooler = cooler.Cooler('my_cool.cool::resolutions/25000')"
   ]
  },
  {
   "cell_type": "code",
   "execution_count": 9,
   "metadata": {},
   "outputs": [
    {
     "name": "stdout",
     "output_type": "stream",
     "text": [
      "chromosomes: ['M', '1', '2', '3', '4', '5', '6', '7', '8', '9', '10', '11', '12', '13', '14', '15', '16', '17', '18', '19', '20', '21', '22', 'X', 'Y'], binsize: 5000\n"
     ]
    }
   ],
   "source": [
    "print(f'chromosomes: {my_cooler.chromnames}, binsize: {my_cooler.binsize}')"
   ]
  },
  {
   "cell_type": "code",
   "execution_count": 10,
   "metadata": {},
   "outputs": [],
   "source": [
    "chromstarts = []\n",
    "for i in my_cooler.chromnames:\n",
    "    chromstarts.append(my_cooler.extent(i)[0])"
   ]
  },
  {
   "cell_type": "code",
   "execution_count": 16,
   "metadata": {},
   "outputs": [
    {
     "data": {
      "image/png": "[encoded data removed]",
      "text/plain": [
       "<Figure size 700x600 with 2 Axes>"
      ]
     },
     "metadata": {},
     "output_type": "display_data"
    }
   ],
   "source": [
    "import matplotlib.pyplot as plt\n",
    "import cooltools.lib.plotting\n",
    "\n",
    "start, end = 20_347_151, 60_397_986\n",
    "region = ('8', start, end)\n",
    "\n",
    "f, ax = plt.subplots(figsize=(7,6))\n",
    "im = ax.matshow(\n",
    "    my_cooler.matrix(balance=False).fetch(region),\n",
    "    vmax=50,\n",
    "    extent=(start, end, end, start),cmap='YlOrRd');\n",
    "plt.colorbar(im ,fraction=0.046, pad=0.04, label='raw counts')\n",
    "ax.set(xticks=chromstarts, xticklabels=my_cooler.chromnames,\n",
    "       xlabel='position, chrom#', ylabel='position, bin#')\n",
    "ax.xaxis.set_label_position('top')"
   ]
  },
  {
   "cell_type": "code",
   "execution_count": 14,
   "metadata": {},
   "outputs": [
    {
     "ename": "MemoryError",
     "evalue": "Unable to allocate 1.39 TiB for an array with shape (617669, 617669) and data type int32",
     "output_type": "error",
     "traceback": [
      "\u001b[0;31m---------------------------------------------------------------------------\u001b[0m",
      "\u001b[0;31mMemoryError\u001b[0m                               Traceback (most recent call last)",
      "Cell \u001b[0;32mIn[14], line 18\u001b[0m\n\u001b[1;32m     13\u001b[0m f, axs \u001b[38;5;241m=\u001b[39m plt\u001b[38;5;241m.\u001b[39msubplots(\n\u001b[1;32m     14\u001b[0m     figsize\u001b[38;5;241m=\u001b[39m(\u001b[38;5;241m14\u001b[39m,\u001b[38;5;241m4\u001b[39m),\n\u001b[1;32m     15\u001b[0m     ncols\u001b[38;5;241m=\u001b[39m\u001b[38;5;241m3\u001b[39m)\n\u001b[1;32m     17\u001b[0m ax \u001b[38;5;241m=\u001b[39m axs[\u001b[38;5;241m0\u001b[39m]\n\u001b[0;32m---> 18\u001b[0m im \u001b[38;5;241m=\u001b[39m ax\u001b[38;5;241m.\u001b[39mmatshow(\u001b[43mmy_cooler\u001b[49m\u001b[38;5;241;43m.\u001b[39;49m\u001b[43mmatrix\u001b[49m\u001b[43m(\u001b[49m\u001b[43mbalance\u001b[49m\u001b[38;5;241;43m=\u001b[39;49m\u001b[38;5;28;43;01mFalse\u001b[39;49;00m\u001b[43m)\u001b[49m\u001b[43m[\u001b[49m\u001b[43m:\u001b[49m\u001b[43m]\u001b[49m, vmax\u001b[38;5;241m=\u001b[39m\u001b[38;5;241m2500\u001b[39m);\n\u001b[1;32m     19\u001b[0m plt\u001b[38;5;241m.\u001b[39mcolorbar(im, ax\u001b[38;5;241m=\u001b[39max ,fraction\u001b[38;5;241m=\u001b[39m\u001b[38;5;241m0.046\u001b[39m, pad\u001b[38;5;241m=\u001b[39m\u001b[38;5;241m0.04\u001b[39m, label\u001b[38;5;241m=\u001b[39m\u001b[38;5;124m'\u001b[39m\u001b[38;5;124mraw counts\u001b[39m\u001b[38;5;124m'\u001b[39m);\n\u001b[1;32m     20\u001b[0m ax\u001b[38;5;241m.\u001b[39mset_xticks(chromstarts)\n",
      "File \u001b[0;32m~/.conda/envs/hic_straw/lib/python3.10/site-packages/cooler/core/_selectors.py:145\u001b[0m, in \u001b[0;36mRangeSelector2D.__getitem__\u001b[0;34m(self, key)\u001b[0m\n\u001b[1;32m    143\u001b[0m i0, i1 \u001b[38;5;241m=\u001b[39m \u001b[38;5;28mself\u001b[39m\u001b[38;5;241m.\u001b[39m_process_slice(s1, \u001b[38;5;28mself\u001b[39m\u001b[38;5;241m.\u001b[39m_shape[\u001b[38;5;241m0\u001b[39m])\n\u001b[1;32m    144\u001b[0m j0, j1 \u001b[38;5;241m=\u001b[39m \u001b[38;5;28mself\u001b[39m\u001b[38;5;241m.\u001b[39m_process_slice(s2, \u001b[38;5;28mself\u001b[39m\u001b[38;5;241m.\u001b[39m_shape[\u001b[38;5;241m1\u001b[39m])\n\u001b[0;32m--> 145\u001b[0m \u001b[38;5;28;01mreturn\u001b[39;00m \u001b[38;5;28;43mself\u001b[39;49m\u001b[38;5;241;43m.\u001b[39;49m\u001b[43m_slice\u001b[49m\u001b[43m(\u001b[49m\u001b[38;5;28;43mself\u001b[39;49m\u001b[38;5;241;43m.\u001b[39;49m\u001b[43mfield\u001b[49m\u001b[43m,\u001b[49m\u001b[43m \u001b[49m\u001b[43mi0\u001b[49m\u001b[43m,\u001b[49m\u001b[43m \u001b[49m\u001b[43mi1\u001b[49m\u001b[43m,\u001b[49m\u001b[43m \u001b[49m\u001b[43mj0\u001b[49m\u001b[43m,\u001b[49m\u001b[43m \u001b[49m\u001b[43mj1\u001b[49m\u001b[43m)\u001b[49m\n",
      "File \u001b[0;32m~/.conda/envs/hic_straw/lib/python3.10/site-packages/cooler/api.py:370\u001b[0m, in \u001b[0;36mCooler.matrix.<locals>._slice\u001b[0;34m(field, i0, i1, j0, j1)\u001b[0m\n\u001b[1;32m    368\u001b[0m \u001b[38;5;28;01mwith\u001b[39;00m open_hdf5(\u001b[38;5;28mself\u001b[39m\u001b[38;5;241m.\u001b[39mstore, \u001b[38;5;241m*\u001b[39m\u001b[38;5;241m*\u001b[39m\u001b[38;5;28mself\u001b[39m\u001b[38;5;241m.\u001b[39mopen_kws) \u001b[38;5;28;01mas\u001b[39;00m h5:\n\u001b[1;32m    369\u001b[0m     grp \u001b[38;5;241m=\u001b[39m h5[\u001b[38;5;28mself\u001b[39m\u001b[38;5;241m.\u001b[39mroot]\n\u001b[0;32m--> 370\u001b[0m     \u001b[38;5;28;01mreturn\u001b[39;00m \u001b[43mmatrix\u001b[49m\u001b[43m(\u001b[49m\n\u001b[1;32m    371\u001b[0m \u001b[43m        \u001b[49m\u001b[43mgrp\u001b[49m\u001b[43m,\u001b[49m\n\u001b[1;32m    372\u001b[0m \u001b[43m        \u001b[49m\u001b[43mi0\u001b[49m\u001b[43m,\u001b[49m\n\u001b[1;32m    373\u001b[0m \u001b[43m        \u001b[49m\u001b[43mi1\u001b[49m\u001b[43m,\u001b[49m\n\u001b[1;32m    374\u001b[0m \u001b[43m        \u001b[49m\u001b[43mj0\u001b[49m\u001b[43m,\u001b[49m\n\u001b[1;32m    375\u001b[0m \u001b[43m        \u001b[49m\u001b[43mj1\u001b[49m\u001b[43m,\u001b[49m\n\u001b[1;32m    376\u001b[0m \u001b[43m        \u001b[49m\u001b[43mfield\u001b[49m\u001b[43m,\u001b[49m\n\u001b[1;32m    377\u001b[0m \u001b[43m        \u001b[49m\u001b[43mbalance\u001b[49m\u001b[43m,\u001b[49m\n\u001b[1;32m    378\u001b[0m \u001b[43m        \u001b[49m\u001b[43msparse\u001b[49m\u001b[43m,\u001b[49m\n\u001b[1;32m    379\u001b[0m \u001b[43m        \u001b[49m\u001b[43mas_pixels\u001b[49m\u001b[43m,\u001b[49m\n\u001b[1;32m    380\u001b[0m \u001b[43m        \u001b[49m\u001b[43mjoin\u001b[49m\u001b[43m,\u001b[49m\n\u001b[1;32m    381\u001b[0m \u001b[43m        \u001b[49m\u001b[43mignore_index\u001b[49m\u001b[43m,\u001b[49m\n\u001b[1;32m    382\u001b[0m \u001b[43m        \u001b[49m\u001b[43mdivisive_weights\u001b[49m\u001b[43m,\u001b[49m\n\u001b[1;32m    383\u001b[0m \u001b[43m        \u001b[49m\u001b[43mchunksize\u001b[49m\u001b[43m,\u001b[49m\n\u001b[1;32m    384\u001b[0m \u001b[43m        \u001b[49m\u001b[38;5;28;43mself\u001b[39;49m\u001b[38;5;241;43m.\u001b[39;49m\u001b[43m_is_symm_upper\u001b[49m\u001b[43m,\u001b[49m\n\u001b[1;32m    385\u001b[0m \u001b[43m    \u001b[49m\u001b[43m)\u001b[49m\n",
      "File \u001b[0;32m~/.conda/envs/hic_straw/lib/python3.10/site-packages/cooler/api.py:760\u001b[0m, in \u001b[0;36mmatrix\u001b[0;34m(h5, i0, i1, j0, j1, field, balance, sparse, as_pixels, join, ignore_index, divisive_weights, chunksize, fill_lower)\u001b[0m\n\u001b[1;32m    758\u001b[0m \u001b[38;5;28;01melse\u001b[39;00m:\n\u001b[1;32m    759\u001b[0m     engine \u001b[38;5;241m=\u001b[39m DirectRangeQuery2D(reader, field, (i0, i1, j0, j1), chunksize)\n\u001b[0;32m--> 760\u001b[0m arr \u001b[38;5;241m=\u001b[39m \u001b[43mengine\u001b[49m\u001b[38;5;241;43m.\u001b[39;49m\u001b[43mto_array\u001b[49m\u001b[43m(\u001b[49m\u001b[43m)\u001b[49m\n\u001b[1;32m    762\u001b[0m \u001b[38;5;28;01mif\u001b[39;00m balance:\n\u001b[1;32m    763\u001b[0m     weights \u001b[38;5;241m=\u001b[39m h5[\u001b[38;5;124m\"\u001b[39m\u001b[38;5;124mbins\u001b[39m\u001b[38;5;124m\"\u001b[39m][name]\n",
      "File \u001b[0;32m~/.conda/envs/hic_straw/lib/python3.10/site-packages/cooler/core/_rangequery.py:302\u001b[0m, in \u001b[0;36mBaseRangeQuery2D.to_array\u001b[0;34m(self)\u001b[0m\n\u001b[1;32m    301\u001b[0m \u001b[38;5;28;01mdef\u001b[39;00m \u001b[38;5;21mto_array\u001b[39m(\u001b[38;5;28mself\u001b[39m):\n\u001b[0;32m--> 302\u001b[0m     \u001b[38;5;28;01mreturn\u001b[39;00m \u001b[43marray_slice_from_dict\u001b[49m\u001b[43m(\u001b[49m\u001b[38;5;28;43mself\u001b[39;49m\u001b[38;5;241;43m.\u001b[39;49m\u001b[43mget\u001b[49m\u001b[43m(\u001b[49m\u001b[43m)\u001b[49m\u001b[43m,\u001b[49m\u001b[43m \u001b[49m\u001b[38;5;241;43m*\u001b[39;49m\u001b[38;5;28;43mself\u001b[39;49m\u001b[38;5;241;43m.\u001b[39;49m\u001b[43mbbox\u001b[49m\u001b[43m,\u001b[49m\u001b[43m \u001b[49m\u001b[38;5;28;43mself\u001b[39;49m\u001b[38;5;241;43m.\u001b[39;49m\u001b[43mfield\u001b[49m\u001b[43m)\u001b[49m\n",
      "File \u001b[0;32m~/.conda/envs/hic_straw/lib/python3.10/site-packages/cooler/core/_rangequery.py:86\u001b[0m, in \u001b[0;36marray_slice_from_dict\u001b[0;34m(dct, row_start, row_stop, col_start, col_stop, field)\u001b[0m\n\u001b[1;32m     84\u001b[0m \u001b[38;5;28;01mdef\u001b[39;00m \u001b[38;5;21marray_slice_from_dict\u001b[39m(dct, row_start, row_stop, col_start, col_stop, field):\n\u001b[1;32m     85\u001b[0m     mat \u001b[38;5;241m=\u001b[39m spmatrix_slice_from_dict(dct, row_start, row_stop, col_start, col_stop, field)\n\u001b[0;32m---> 86\u001b[0m     \u001b[38;5;28;01mreturn\u001b[39;00m \u001b[43mmat\u001b[49m\u001b[38;5;241;43m.\u001b[39;49m\u001b[43mtoarray\u001b[49m\u001b[43m(\u001b[49m\u001b[43m)\u001b[49m\n",
      "File \u001b[0;32m~/.conda/envs/hic_straw/lib/python3.10/site-packages/scipy/sparse/_coo.py:225\u001b[0m, in \u001b[0;36m_coo_base.toarray\u001b[0;34m(self, order, out)\u001b[0m\n\u001b[1;32m    224\u001b[0m \u001b[38;5;28;01mdef\u001b[39;00m \u001b[38;5;21mtoarray\u001b[39m(\u001b[38;5;28mself\u001b[39m, order\u001b[38;5;241m=\u001b[39m\u001b[38;5;28;01mNone\u001b[39;00m, out\u001b[38;5;241m=\u001b[39m\u001b[38;5;28;01mNone\u001b[39;00m):\n\u001b[0;32m--> 225\u001b[0m     B \u001b[38;5;241m=\u001b[39m \u001b[38;5;28;43mself\u001b[39;49m\u001b[38;5;241;43m.\u001b[39;49m\u001b[43m_process_toarray_args\u001b[49m\u001b[43m(\u001b[49m\u001b[43morder\u001b[49m\u001b[43m,\u001b[49m\u001b[43m \u001b[49m\u001b[43mout\u001b[49m\u001b[43m)\u001b[49m\n\u001b[1;32m    226\u001b[0m     fortran \u001b[38;5;241m=\u001b[39m \u001b[38;5;28mint\u001b[39m(B\u001b[38;5;241m.\u001b[39mflags\u001b[38;5;241m.\u001b[39mf_contiguous)\n\u001b[1;32m    227\u001b[0m     \u001b[38;5;28;01mif\u001b[39;00m \u001b[38;5;129;01mnot\u001b[39;00m fortran \u001b[38;5;129;01mand\u001b[39;00m \u001b[38;5;129;01mnot\u001b[39;00m B\u001b[38;5;241m.\u001b[39mflags\u001b[38;5;241m.\u001b[39mc_contiguous:\n",
      "File \u001b[0;32m~/.conda/envs/hic_straw/lib/python3.10/site-packages/scipy/sparse/_base.py:1287\u001b[0m, in \u001b[0;36m_spbase._process_toarray_args\u001b[0;34m(self, order, out)\u001b[0m\n\u001b[1;32m   1285\u001b[0m     \u001b[38;5;28;01mreturn\u001b[39;00m out\n\u001b[1;32m   1286\u001b[0m \u001b[38;5;28;01melse\u001b[39;00m:\n\u001b[0;32m-> 1287\u001b[0m     \u001b[38;5;28;01mreturn\u001b[39;00m \u001b[43mnp\u001b[49m\u001b[38;5;241;43m.\u001b[39;49m\u001b[43mzeros\u001b[49m\u001b[43m(\u001b[49m\u001b[38;5;28;43mself\u001b[39;49m\u001b[38;5;241;43m.\u001b[39;49m\u001b[43mshape\u001b[49m\u001b[43m,\u001b[49m\u001b[43m \u001b[49m\u001b[43mdtype\u001b[49m\u001b[38;5;241;43m=\u001b[39;49m\u001b[38;5;28;43mself\u001b[39;49m\u001b[38;5;241;43m.\u001b[39;49m\u001b[43mdtype\u001b[49m\u001b[43m,\u001b[49m\u001b[43m \u001b[49m\u001b[43morder\u001b[49m\u001b[38;5;241;43m=\u001b[39;49m\u001b[43morder\u001b[49m\u001b[43m)\u001b[49m\n",
      "\u001b[0;31mMemoryError\u001b[0m: Unable to allocate 1.39 TiB for an array with shape (617669, 617669) and data type int32"
     ]
    },
    {
     "data": {
      "image/png": "[encoded data removed]",
      "text/plain": [
       "<Figure size 1400x400 with 3 Axes>"
      ]
     },
     "metadata": {},
     "output_type": "display_data"
    }
   ],
   "source": [
    "from matplotlib.ticker import EngFormatter\n",
    "bp_formatter = EngFormatter('b')\n",
    "\n",
    "def format_ticks(ax, x=True, y=True, rotate=True):\n",
    "    if y:\n",
    "        ax.yaxis.set_major_formatter(bp_formatter)\n",
    "    if x:\n",
    "        ax.xaxis.set_major_formatter(bp_formatter)\n",
    "        ax.xaxis.tick_bottom()\n",
    "    if rotate:\n",
    "        ax.tick_params(axis='x',rotation=45)\n",
    "\n",
    "f, axs = plt.subplots(\n",
    "    figsize=(14,4),\n",
    "    ncols=3)\n",
    "\n",
    "ax = axs[0]\n",
    "im = ax.matshow(my_cooler.matrix(balance=False)[:], vmax=2500);\n",
    "plt.colorbar(im, ax=ax ,fraction=0.046, pad=0.04, label='raw counts');\n",
    "ax.set_xticks(chromstarts)\n",
    "ax.set_xticklabels(my_cooler.chromnames)\n",
    "ax.set_yticks(chromstarts)\n",
    "ax.set_yticklabels(my_cooler.chromnames)\n",
    "ax.xaxis.tick_bottom()\n",
    "ax.set_title('All data')\n",
    "\n",
    "ax = axs[1]\n",
    "im = ax.matshow(\n",
    "    my_cooler.matrix(balance=False).fetch('chr17'),\n",
    "    vmax=2500,\n",
    "    extent=(0,my_cooler.chromsizes['chr17'], my_cooler.chromsizes['chr17'], 0)\n",
    ");\n",
    "plt.colorbar(im, ax=ax ,fraction=0.046, pad=0.04, label='raw counts');\n",
    "ax.set_title('chr17', y=1.08)\n",
    "ax.set_ylabel('position, Mb')\n",
    "format_ticks(ax)\n",
    "\n",
    "ax = axs[2]\n",
    "start, end = 30_000_000, 60_000_000\n",
    "region = ('chr17', start, end)\n",
    "im = ax.matshow(\n",
    "    my_cooler.matrix(balance=False).fetch(region),\n",
    "    vmax=2500,\n",
    "    extent=(start, end, end, start)\n",
    ");\n",
    "ax.set_title(f'chr17:{start:,}-{end:,}', y=1.08)\n",
    "plt.colorbar(im, ax=ax ,fraction=0.046, pad=0.04, label='raw counts');\n",
    "format_ticks(ax)\n",
    "plt.tight_layout()"
   ]
  },
  {
   "cell_type": "code",
   "execution_count": null,
   "metadata": {},
   "outputs": [],
   "source": []
  }
 ],
 "metadata": {
  "kernelspec": {
   "display_name": "hic_straw",
   "language": "python",
   "name": "python3"
  },
  "language_info": {
   "codemirror_mode": {
    "name": "ipython",
    "version": 3
   },
   "file_extension": ".py",
   "mimetype": "text/x-python",
   "name": "python",
   "nbconvert_exporter": "python",
   "pygments_lexer": "ipython3",
   "version": "3.10.9"
  }
 },
 "nbformat": 4,
 "nbformat_minor": 2
}
