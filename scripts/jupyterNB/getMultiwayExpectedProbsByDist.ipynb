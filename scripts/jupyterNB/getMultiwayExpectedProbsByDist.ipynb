{
 "cells": [
  {
   "cell_type": "code",
   "execution_count": 1,
   "metadata": {},
   "outputs": [],
   "source": [
    "## Not sure what I'm doing\n",
    "\n",
    "import numpy as np\n",
    "import pandas as pd\n",
    "import pickle\n",
    "from itertools import combinations\n",
    "from collections import defaultdict\n",
    "import matplotlib.pyplot as plt\n",
    "import seaborn as sns\n",
    "import random\n",
    "from sklearn.metrics.pairwise import cosine_similarity\n",
    "import warnings\n",
    "import statistics\n",
    "\n",
    "import sys\n",
    "sys.path.append('/gpfs/commons/groups/gursoy_lab/ajoglekar/Projects/2023_03_01_multiwayInteractions/v0.analysis/scripts/pythonScripts/functions/')\n",
    "from utils import flatten\n",
    "\n",
    "## Set up. \n",
    "dataDir = '/gpfs/commons/groups/gursoy_lab/ajoglekar/Projects/2023_03_01_multiwayInteractions/2023_03_01_v0_dataGathering/v0_hypergraphSimulations/getMultiwayInteractions_fromBPChains/'\n",
    "runDir = 'expectedReadCutoffEvaluation_v0/'\n",
    "plotDir = f'{dataDir}{runDir}Plots_1kChains_600_750_3/'\n",
    "outDir = f'{dataDir}{runDir}dfs_1kChains_600_750_3/'"
   ]
  },
  {
   "cell_type": "code",
   "execution_count": 2,
   "metadata": {},
   "outputs": [],
   "source": [
    "numFiles = 1000\n",
    "with open(f'{dataDir}makeHyperGraphDict/hyperEdges_3_600_750_{numFiles}_chains.pkl','rb') as f:\n",
    "    hpEdges = pickle.load(f)\n",
    "\n",
    "numEdges = np.loadtxt(f'{dataDir}makeHyperGraphDict/numEdges_3_600_750_{numFiles}_chains.txt')"
   ]
  },
  {
   "cell_type": "code",
   "execution_count": 3,
   "metadata": {},
   "outputs": [],
   "source": [
    "hpKeys = [k for k in hpEdges.keys()]\n",
    "hpKeys_split = [k.split(\"_\") for k in hpEdges.keys()]\n",
    "keyCard = [len(item) for item in hpKeys_split]"
   ]
  },
  {
   "cell_type": "markdown",
   "metadata": {},
   "source": [
    "## Functions"
   ]
  },
  {
   "cell_type": "code",
   "execution_count": 4,
   "metadata": {},
   "outputs": [],
   "source": [
    "def getPairwiseDist(combination):\n",
    "    \"\"\"Given a two-way interaction, find dist between them\"\"\"\n",
    "    ends = [int(combination[i].split(\":\")[1]) for i in [0,1]]\n",
    "    diff = (ends[1] - ends[0]) / 5\n",
    "    return(diff)\n",
    "\n",
    "def getNWayMeanDistPerSubset(comb):\n",
    "    \"\"\"Get the mean pairwise distance given a\n",
    "    high cardinality read\"\"\"\n",
    "    twoWays = list(combinations(comb,2))\n",
    "    twoWayDist = [getPairwiseDist(c) for c in twoWays]\n",
    "    meanDist = round(statistics.mean(twoWayDist))\n",
    "    return(meanDist)\n",
    "\n",
    "def makeNWayDict(ix,hpEdges,hpKeys_split,n):\n",
    "    \"\"\"For a high cardinality read, make a dictionary\n",
    "    that outputs the frequency and mean distance for subsets\n",
    "    of cardinality n\"\"\"\n",
    "    splitKey = hpKeys_split[ix]\n",
    "    combs = list(combinations(splitKey,n))\n",
    "    subsetDict = defaultdict(int)\n",
    "    for comb in combs:\n",
    "        subsetEdge = '_'.join(map(str, comb))\n",
    "        subsetEdgeReads = hpEdges[subsetEdge]\n",
    "        meanDist = getNWayMeanDistPerSubset(comb)\n",
    "        subsetDict[meanDist] = subsetEdgeReads\n",
    "    return(subsetDict)\n",
    "\n",
    "def getProbabilitiesByDist(mainDict):\n",
    "    \"\"\"Get probabilities of reads occurring by mean dist to\n",
    "    obtain the expected probability distribution from the data\"\"\"\n",
    "    totalReadsForCard = sum(mainDict.values())\n",
    "    normalized_values = [value / totalReadsForCard for value in mainDict.values()]\n",
    "    return(normalized_values)\n",
    "\n",
    "def getNWayProbsPerCard(card,hpEdges,keyCard,hpKeys_split,n,toPlot):\n",
    "    \"\"\"Get distance-stratified expected probability distribution for high\n",
    "    cardinality reads and their subsets of cardinality n\"\"\"\n",
    "    ixList = [index for index,element in enumerate(keyCard) if element == card]\n",
    "    mainDict = defaultdict(int)\n",
    "\n",
    "    for ix in ixList:\n",
    "        nWayDict = makeNWayDict(ix,hpEdges,hpKeys_split,n)\n",
    "        for key in nWayDict.keys():\n",
    "            mainDict[key] += nWayDict[key]\n",
    "\n",
    "    normalized_values = getProbabilitiesByDist(mainDict)\n",
    "    if toPlot is True:\n",
    "        plotReadFreqsPerCard(mainDict,normalized_values,card,n)\n",
    "    \n",
    "    probabilityDict = {list(mainDict.keys())[ix]:normalized_values[ix] for ix in range(len(normalized_values))}\n",
    "    return(probabilityDict)\n",
    "\n",
    "def makeAllReferenceHashDicts(keyCard,hpEdges,hpKeys_split):\n",
    "    \"\"\"For all available cards, create look up table of probability of\n",
    "    seeing all possible subsets as a function of mean distances\n",
    "    between subsets\"\"\"\n",
    "    probHash = defaultdict(dict)\n",
    "\n",
    "    for card in range(max(keyCard),2,-1):\n",
    "        print(\"Calculating for card=\",card)\n",
    "        ixList = [index for index,element in enumerate(keyCard) if element == card]\n",
    "        print(\"There are \",len(ixList),\"reads\")\n",
    "        for n in range(2,card):\n",
    "            print(f\"Creating a probability hash for {n}-way subsets\")\n",
    "            hashID = f'{card}sub{n}'\n",
    "            probHash[hashID] = getNWayProbsPerCard(card,hpEdges,keyCard,hpKeys_split,n,True)\n",
    "    return(probHash)\n",
    "\n",
    "def plotReadFreqsPerCard(mainDict,normalized_values,card,n):\n",
    "    \"\"\"Takes in a generated dictionary and plots the\n",
    "    read frequency as well as probabilities (first 20) by the\n",
    "    distance\"\"\"\n",
    "\n",
    "    # Step 1: Plot a barplot with dictionary keys on the x-axis and values on the y-axis\n",
    "    sns.barplot(x=list(mainDict.keys()), y=list(mainDict.values()),color = \"grey\")\n",
    "    plt.title(f\"Read frequency of {n}-way subsets for Card={card}\")\n",
    "    plt.xlabel(f\"Mean distance between {n}-way interactions\")\n",
    "    plt.ylabel(\"Frequency\")\n",
    "    plt.xticks(rotation=90,fontsize=5)\n",
    "    plt.savefig(f'{plotDir}DistStratProbs_Card{card}sub{n}.png',bbox_inches = 'tight',facecolor = \"white\")\n",
    "    #plt.show()\n",
    "\n",
    "    # Step 2: Plot the same barplot with the ratio of each value to the total\n",
    "    sns.barplot(x=list(mainDict.keys()), y=normalized_values,color = \"grey\")\n",
    "    plt.title(f\"Probability of occurrence {n}-way distance for Card={card}\")\n",
    "    plt.xlabel(f\"Mean distance between {n}-way interactions\")\n",
    "    plt.ylabel(\"Probabilities\")\n",
    "    plt.xlim(0,19)\n",
    "    plt.xticks(rotation=90)\n",
    "    plt.savefig(f'{plotDir}DistStratProbs_top20_Card{card}sub{n}.png',bbox_inches = 'tight',facecolor = \"white\")\n",
    "    #plt.show()\n",
    "    plt.close()\n",
    "    return None\n",
    "\n",
    "def getReadExpectednessStats(card,ix,hpKeys_split,n,expHash,toPlot):\n",
    "    \"\"\"Per read, get the observed distribution of n-way contacts\n",
    "    and calculate similarity to the expected distribution\"\"\"\n",
    "    readDict = makeNWayDict(ix,hpEdges,hpKeys_split,n)\n",
    "    readPercs = getProbabilitiesByDist(readDict)\n",
    "    probVals = [expHash[k] for k in readDict.keys()]\n",
    "    if toPlot is True:\n",
    "        makeSanityCheckPlotsPerRead(readDict,readPercs,probVals,card,n)\n",
    "    correlation = np.corrcoef(readPercs, probVals)[0, 1]\n",
    "    similarity = cosine_similarity(np.array(readPercs).reshape(1,-1), \n",
    "                                np.array(probVals).reshape(1,-1))[0,0]\n",
    "    return(correlation, similarity)\n",
    "\n",
    "def getStatsPerCard(card,n,probHash,toChoose,toPlot,revised_ixes):\n",
    "    \"\"\"Per cardinality, get a subset of reads (for computational\n",
    "    purposes), calculate the correlation of observed n-way interactions\n",
    "    to the expected value, and output a list\"\"\"\n",
    "    corrList = []\n",
    "    cosList = []\n",
    "    expHash = f'{card}sub{n}'\n",
    "    for ix in revised_ixes:\n",
    "        #print(ix)\n",
    "        corr, cos = getReadExpectednessStats(card,ix,hpKeys_split,n,probHash[expHash],toPlot)\n",
    "        corrList.append(corr)\n",
    "        cosList.append(cos)\n",
    "    return(corrList, cosList)\n",
    "\n",
    "def statsForAllCardSubsets(card,probHash,toChoose,toPlot,seed):\n",
    "    \"\"\"Wrapper for the stats per card. Calculates for all subsets of a card and binds into a df\"\"\"\n",
    "    print(\"Calculating for card=\",card)\n",
    "    ixList = [index for index,element in enumerate(keyCard) if element == card]\n",
    "    print(\"There are \",len(ixList),\"reads\")\n",
    "    toChoose = min(toChoose,len(ixList))\n",
    "    print(\"Calculating stats for\",toChoose,\"reads\")\n",
    "    random.seed(seed)\n",
    "    revised_ixes = random.sample(ixList,toChoose)\n",
    "    C1 = []\n",
    "    C2 = []\n",
    "    for n in range(2,card):\n",
    "        stats = getStatsPerCard(card,n,probHash,toChoose,toPlot,revised_ixes)\n",
    "        C1.append(stats[0])\n",
    "        C2.append(stats[0])\n",
    "    cN = [str(card)+\"Sub\"+str(i) for i in range(2,card)]\n",
    "    df1 = pd.DataFrame(C1).T\n",
    "    df2 = pd.DataFrame(C2).T\n",
    "    df1.columns = cN\n",
    "    df2.columns = cN\n",
    "    return(df1,df2)\n",
    "\n",
    "def statsForAllReads(keyCard,probHash,toChoose,toPlot,plotScatter,seed):\n",
    "    \"\"\"Wrapper for all reads\"\"\"\n",
    "    for card in range(max(keyCard),3,-1):\n",
    "        corrStats, cosStats = statsForAllCardSubsets(card,probHash,toChoose,toPlot,seed)\n",
    "        summaryCos = pd.DataFrame({'mean':cosStats.mean(axis = 1),'sem':cosStats.sem(axis = 1)})\n",
    "        summaryCorr = pd.DataFrame({'mean':corrStats.mean(axis = 1),'sem':corrStats.sem(axis = 1)})\n",
    "        if plotScatter is True:\n",
    "            plotScatterWithErrorBars(summaryCos,\"CosineSim\",card)\n",
    "            plotScatterWithErrorBars(summaryCorr,\"Pearson Corr\",card)\n",
    "        plotSimilarityHist(summaryCorr['mean'],summaryCos['mean'],card)\n",
    "        print(\"Writing output\")\n",
    "        corrStats.to_csv(f'{outDir}/correlation_card{card}.csv',sep = \"\\t\",index=False)\n",
    "        cosStats.to_csv(f'{outDir}/cosineSim_card{card}.csv',sep = \"\\t\",index=False)\n",
    "    for card in [3]:\n",
    "        corrStats, cosStats = statsForAllCardSubsets(card,probHash,toChoose,toPlot,seed)\n",
    "        plotSimilarityHist(corrStats,cosStats,card)\n",
    "        print(\"Writing output\")\n",
    "        corrStats.to_csv(f'{outDir}/correlation_card{card}.csv',sep = \"\\t\",index=False)\n",
    "        cosStats.to_csv(f'{outDir}/cosineSim_card{card}.csv',sep = \"\\t\",index=False)\n",
    "    return()\n",
    "\n",
    "def makeSanityCheckPlotsPerRead(readDict, readPercs, probVals,card,n):\n",
    "    \"\"\"For specific reads, plot the observed versus expected distributions\n",
    "    of two-way interactions along with a fitted spline. Additionally outputs\n",
    "    the slope (useful only if line) and correlation values\"\"\"\n",
    "    Distances = list(readDict.keys())\n",
    "    Freqs = readPercs\n",
    "    \n",
    "    # Create a 2x2 grid of subplots\n",
    "    fig, axs = plt.subplots(2, 2, figsize=(6, 6))\n",
    "\n",
    "    # Plot 1: Observed w/ spline\n",
    "    lowess1 = sns.regplot(x=Distances, y=Freqs, lowess=True, ci=None, color='red', ax=axs[0, 0])\n",
    "    axs[0, 0].set_title(f\"Observed w/ spline Card{card}sub{n}\")\n",
    "\n",
    "    # Plot 2: Expected w/ spline\n",
    "    lowess2 = sns.regplot(x=Distances, y=probVals, lowess=True, ci=None, color='grey', ax=axs[0, 1])\n",
    "    axs[0, 1].set_title(f\"Expected w/ spline Card{card}sub{n}\")\n",
    "\n",
    "    # Calculate smoothed values and slopes\n",
    "    y_smoothed1 = lowess1.get_lines()[0].get_ydata()\n",
    "    y_smoothed2 = lowess2.get_lines()[0].get_ydata()\n",
    "\n",
    "    slope1 = np.gradient(y_smoothed1)\n",
    "    slope2 = np.gradient(y_smoothed2)\n",
    "\n",
    "    # Plot 3: Barplot for readPercs\n",
    "    sns.barplot(x=list(readDict.keys()), y=readPercs, ax=axs[1, 0])\n",
    "    axs[1, 0].set_title(f\"Barplot for readPercs Card{card}sub{n}\")\n",
    "\n",
    "    # Plot 4: Barplot for probVals\n",
    "    sns.barplot(x=list(readDict.keys()), y=probVals, ax=axs[1, 1])\n",
    "    axs[1, 1].set_title(f\"Barplot for probVals Card{card}sub{n}\")\n",
    "\n",
    "    correlation = np.corrcoef(readPercs, probVals)[0, 1]\n",
    "    similarity = cosine_similarity(np.array(readPercs).reshape(1,-1), \n",
    "                  np.array(probVals).reshape(1,-1))[0,0]\n",
    "    \n",
    "    # Print the slopes\n",
    "    print(\"Comparing -------------\")\n",
    "    print(f\"Slope for observed: {slope1.mean()}\")\n",
    "    print(f\"Slope for expected: {slope2.mean()}\")\n",
    "    print(f\"Correlation: {correlation}\")\n",
    "    print(f\"Cosine similarity: {similarity}\")\n",
    "\n",
    "    # Adjust layout and show the subplots\n",
    "    plt.tight_layout()\n",
    "    plt.show()\n",
    "    plt.close()\n",
    "    return None\n",
    "\n",
    "def plotSimilarityHist(corrList,cosList,card):\n",
    "    \"\"\"Given distribution for a cardinality, plot the correlation\n",
    "    and cosine similarity values so that we can settle on a heuristic\"\"\"\n",
    "    # Create a 2x2 grid of subplots\n",
    "    fig, axs = plt.subplots(1, 2, figsize=(8, 4))\n",
    "\n",
    "    # Plot 1: Pearson correlation histogram\n",
    "    axs[0].hist(corrList, color='blue', alpha=0.7, width=0.3, bins=201)\n",
    "    axs[0].set_xlim(-1, 1.01)\n",
    "    axs[0].set_title(f\"Mean pearson correlation for card={card}\")\n",
    "\n",
    "    # Plot 2: Cosine similarity histogram\n",
    "    axs[1].hist(cosList, color='green', alpha=0.7, width=0.3, bins=101)\n",
    "    axs[1].set_xlim(0, 1.01)\n",
    "    axs[1].set_title(f\"Mean cosine similarity for card={card}\")\n",
    "    # Adjust layout\n",
    "    plt.tight_layout()\n",
    "    plt.savefig(f'{plotDir}/Histogram_Card{card}.png',bbox_inches = 'tight',facecolor = \"white\")\n",
    "    #plt.show()\n",
    "    plt.close()\n",
    "    return None\n",
    "\n",
    "\n",
    "def plotScatterWithErrorBars(summaryDF,metric,card):\n",
    "    \"\"\"Given summary stats for a certain number of reads, plot scatter plot with error bars \n",
    "    representing change over all subsets\"\"\"\n",
    "    sortedSumm = summaryDF.sort_values(by='mean')\n",
    "    x = [i+1 for i in range(summaryDF.shape[0])] # Use the index as x-axis\n",
    "    y = sortedSumm['mean']\n",
    "    error = sortedSumm['sem']\n",
    "\n",
    "    plt.scatter(x, y, label=f'mean {metric}', marker='o')\n",
    "    plt.errorbar(x, y, yerr=error, linestyle='None', color='grey', capsize=3)\n",
    "    plt.xlabel('ReadID')\n",
    "    plt.ylabel(f'mean {metric}')\n",
    "    plt.ylim(-1,1)\n",
    "    plt.title(f'Distribution for card={card}')\n",
    "    plt.legend()\n",
    "    plt.savefig(f'{plotDir}/ScatterPlot_{metric}_Card{card}.png',bbox_inches = 'tight',facecolor = \"white\")\n",
    "    #plt.show()\n",
    "    plt.close()\n",
    "    return None\n",
    "\n"
   ]
  },
  {
   "cell_type": "markdown",
   "metadata": {},
   "source": [
    "## Start computation"
   ]
  },
  {
   "cell_type": "code",
   "execution_count": 5,
   "metadata": {},
   "outputs": [],
   "source": [
    "# D5sub3 = getNWayProbsPerCard(5,hpEdges,keyCard,hpKeys_split,3,False)\n",
    "# D8sub5 = getNWayProbsPerCard(8,hpEdges,keyCard,hpKeys_split,5,False)\n",
    "# D8sub7 = getNWayProbsPerCard(8,hpEdges,keyCard,hpKeys_split,7,False)\n",
    "# D7sub5 = getNWayProbsPerCard(7,hpEdges,keyCard,hpKeys_split,5,False)\n",
    "D9sub2 = getNWayProbsPerCard(9,hpEdges,keyCard,hpKeys_split,2,False)"
   ]
  },
  {
   "cell_type": "code",
   "execution_count": 26,
   "metadata": {},
   "outputs": [],
   "source": [
    "import json\n",
    "probHashOutName = f'{outDir}probHash_1kChains_3_600_750.json'\n",
    "with open(probHashOutName,'r') as file:\n",
    "    tmpHash = json.load(file)\n",
    "    probHash = {key: {int(k): v for k, v in value.items()} for key, value in tmpHash.items()}"
   ]
  },
  {
   "cell_type": "code",
   "execution_count": 28,
   "metadata": {},
   "outputs": [
    {
     "data": {
      "text/plain": [
       "0.056174004932918235"
      ]
     },
     "execution_count": 28,
     "metadata": {},
     "output_type": "execute_result"
    }
   ],
   "source": [
    "D9sub2[3]\n",
    "probHash['9sub2'][3]"
   ]
  },
  {
   "cell_type": "code",
   "execution_count": 9,
   "metadata": {},
   "outputs": [
    {
     "name": "stdout",
     "output_type": "stream",
     "text": [
      "619813\n",
      "Bin0:4_Bin15:19_Bin30:34_Bin35:39_Bin75:79_Bin80:84_Bin110:114_Bin115:119_Bin490:494\n",
      "defaultdict(<class 'int'>, {4: 2975, 8: 171, 12: 91, 50: 1, 9: 112, 10: 133, 13: 85, 14: 298, 51: 1, 15: 325, 52: 14, 11: 1260, 49: 13, 6: 1524, 7: 140, 48: 1, 47: 3, 46: 10, 5: 697, 42: 3, 43: 7, 41: 5})\n"
     ]
    },
    {
     "ename": "KeyError",
     "evalue": "50",
     "output_type": "error",
     "traceback": [
      "\u001b[0;31m---------------------------------------------------------------------------\u001b[0m",
      "\u001b[0;31mKeyError\u001b[0m                                  Traceback (most recent call last)",
      "\u001b[1;32m/gpfs/commons/groups/gursoy_lab/ajoglekar/Projects/2023_03_01_multiwayInteractions/v0.analysis/scripts/jupyterNB/getMultiwayExpectedProbsByDist.ipynb Cell 8\u001b[0m line \u001b[0;36m8\n\u001b[1;32m      <a href='vscode-notebook-cell://ssh-remote%2Bpe2-compute/gpfs/commons/groups/gursoy_lab/ajoglekar/Projects/2023_03_01_multiwayInteractions/v0.analysis/scripts/jupyterNB/getMultiwayExpectedProbsByDist.ipynb#X10sdnNjb2RlLXJlbW90ZQ%3D%3D?line=5'>6</a>\u001b[0m \u001b[39mprint\u001b[39m(readDict)\n\u001b[1;32m      <a href='vscode-notebook-cell://ssh-remote%2Bpe2-compute/gpfs/commons/groups/gursoy_lab/ajoglekar/Projects/2023_03_01_multiwayInteractions/v0.analysis/scripts/jupyterNB/getMultiwayExpectedProbsByDist.ipynb#X10sdnNjb2RlLXJlbW90ZQ%3D%3D?line=6'>7</a>\u001b[0m \u001b[39m# probVals = [probHash['9sub2'][k] for k in readDict.keys()]\u001b[39;00m\n\u001b[0;32m----> <a href='vscode-notebook-cell://ssh-remote%2Bpe2-compute/gpfs/commons/groups/gursoy_lab/ajoglekar/Projects/2023_03_01_multiwayInteractions/v0.analysis/scripts/jupyterNB/getMultiwayExpectedProbsByDist.ipynb#X10sdnNjb2RlLXJlbW90ZQ%3D%3D?line=7'>8</a>\u001b[0m probVals \u001b[39m=\u001b[39m [D9sub2[k] \u001b[39mfor\u001b[39;00m k \u001b[39min\u001b[39;00m readDict\u001b[39m.\u001b[39mkeys()]\n\u001b[1;32m     <a href='vscode-notebook-cell://ssh-remote%2Bpe2-compute/gpfs/commons/groups/gursoy_lab/ajoglekar/Projects/2023_03_01_multiwayInteractions/v0.analysis/scripts/jupyterNB/getMultiwayExpectedProbsByDist.ipynb#X10sdnNjb2RlLXJlbW90ZQ%3D%3D?line=9'>10</a>\u001b[0m \u001b[39mprint\u001b[39m(probVals)\n",
      "\u001b[1;32m/gpfs/commons/groups/gursoy_lab/ajoglekar/Projects/2023_03_01_multiwayInteractions/v0.analysis/scripts/jupyterNB/getMultiwayExpectedProbsByDist.ipynb Cell 8\u001b[0m line \u001b[0;36m8\n\u001b[1;32m      <a href='vscode-notebook-cell://ssh-remote%2Bpe2-compute/gpfs/commons/groups/gursoy_lab/ajoglekar/Projects/2023_03_01_multiwayInteractions/v0.analysis/scripts/jupyterNB/getMultiwayExpectedProbsByDist.ipynb#X10sdnNjb2RlLXJlbW90ZQ%3D%3D?line=5'>6</a>\u001b[0m \u001b[39mprint\u001b[39m(readDict)\n\u001b[1;32m      <a href='vscode-notebook-cell://ssh-remote%2Bpe2-compute/gpfs/commons/groups/gursoy_lab/ajoglekar/Projects/2023_03_01_multiwayInteractions/v0.analysis/scripts/jupyterNB/getMultiwayExpectedProbsByDist.ipynb#X10sdnNjb2RlLXJlbW90ZQ%3D%3D?line=6'>7</a>\u001b[0m \u001b[39m# probVals = [probHash['9sub2'][k] for k in readDict.keys()]\u001b[39;00m\n\u001b[0;32m----> <a href='vscode-notebook-cell://ssh-remote%2Bpe2-compute/gpfs/commons/groups/gursoy_lab/ajoglekar/Projects/2023_03_01_multiwayInteractions/v0.analysis/scripts/jupyterNB/getMultiwayExpectedProbsByDist.ipynb#X10sdnNjb2RlLXJlbW90ZQ%3D%3D?line=7'>8</a>\u001b[0m probVals \u001b[39m=\u001b[39m [D9sub2[k] \u001b[39mfor\u001b[39;00m k \u001b[39min\u001b[39;00m readDict\u001b[39m.\u001b[39mkeys()]\n\u001b[1;32m     <a href='vscode-notebook-cell://ssh-remote%2Bpe2-compute/gpfs/commons/groups/gursoy_lab/ajoglekar/Projects/2023_03_01_multiwayInteractions/v0.analysis/scripts/jupyterNB/getMultiwayExpectedProbsByDist.ipynb#X10sdnNjb2RlLXJlbW90ZQ%3D%3D?line=9'>10</a>\u001b[0m \u001b[39mprint\u001b[39m(probVals)\n",
      "\u001b[0;31mKeyError\u001b[0m: 50"
     ]
    }
   ],
   "source": [
    "## test\n",
    "print(len(hpKeys))\n",
    "ix = 440510\n",
    "print(hpKeys[440510])\n",
    "readDict = makeNWayDict(440510,hpEdges,hpKeys_split,4)\n",
    "print(readDict)\n",
    "# probVals = [probHash['9sub2'][k] for k in readDict.keys()]\n",
    "probVals = [D9sub2[k] for k in readDict.keys()]\n",
    "\n",
    "print(probVals)\n"
   ]
  },
  {
   "cell_type": "code",
   "execution_count": 154,
   "metadata": {},
   "outputs": [
    {
     "name": "stdout",
     "output_type": "stream",
     "text": [
      "Calculating for card= 5\n",
      "There are  1087780 reads\n",
      "Calculating stats for 4000 reads\n"
     ]
    },
    {
     "data": {
      "text/plain": [
       "4000"
      ]
     },
     "execution_count": 154,
     "metadata": {},
     "output_type": "execute_result"
    }
   ],
   "source": [
    "warnings.filterwarnings('ignore')\n",
    "\n",
    "corrList, cosList = getStatsPerCard(5,3,4000,False,1)\n",
    "len(corrList)"
   ]
  },
  {
   "cell_type": "code",
   "execution_count": 150,
   "metadata": {},
   "outputs": [
    {
     "data": {
      "text/plain": [
       "count    4000.000000\n",
       "mean        0.845613\n",
       "std         0.172810\n",
       "min         0.118564\n",
       "25%         0.775069\n",
       "50%         0.906070\n",
       "75%         0.978415\n",
       "max         0.999994\n",
       "dtype: float64"
      ]
     },
     "execution_count": 150,
     "metadata": {},
     "output_type": "execute_result"
    }
   ],
   "source": [
    "cosSer = pd.Series(cosList)\n",
    "summary = cosSer.describe()\n",
    "summary"
   ]
  },
  {
   "cell_type": "code",
   "execution_count": 151,
   "metadata": {},
   "outputs": [
    {
     "data": {
      "image/png": "[encoded data removed]",
      "text/plain": [
       "<Figure size 800x400 with 2 Axes>"
      ]
     },
     "metadata": {},
     "output_type": "display_data"
    }
   ],
   "source": [
    "plotSimilarityHist(corrList,cosList)"
   ]
  },
  {
   "cell_type": "markdown",
   "metadata": {},
   "source": [
    "## Run comprehensively\n",
    "- Compile all the probablity dictionaries of card + subsets\n",
    "- Run the correlation for all cards and subsets\n",
    "- Track the correlation value for the same read across multiple subsets"
   ]
  },
  {
   "cell_type": "code",
   "execution_count": 7,
   "metadata": {},
   "outputs": [
    {
     "name": "stdout",
     "output_type": "stream",
     "text": [
      "Calculating for card= 9\n",
      "There are  4 reads\n",
      "Creating a probability hash for 2-way subsets\n",
      "Creating a probability hash for 3-way subsets\n",
      "Creating a probability hash for 4-way subsets\n",
      "Creating a probability hash for 5-way subsets\n",
      "Creating a probability hash for 6-way subsets\n",
      "Creating a probability hash for 7-way subsets\n",
      "Creating a probability hash for 8-way subsets\n",
      "Calculating for card= 8\n",
      "There are  182 reads\n",
      "Creating a probability hash for 2-way subsets\n",
      "Creating a probability hash for 3-way subsets\n",
      "Creating a probability hash for 4-way subsets\n",
      "Creating a probability hash for 5-way subsets\n",
      "Creating a probability hash for 6-way subsets\n",
      "Creating a probability hash for 7-way subsets\n",
      "Calculating for card= 7\n",
      "There are  3464 reads\n",
      "Creating a probability hash for 2-way subsets\n",
      "Creating a probability hash for 3-way subsets\n",
      "Creating a probability hash for 4-way subsets\n",
      "Creating a probability hash for 5-way subsets\n",
      "Creating a probability hash for 6-way subsets\n",
      "Calculating for card= 6\n",
      "There are  35016 reads\n",
      "Creating a probability hash for 2-way subsets\n",
      "Creating a probability hash for 3-way subsets\n",
      "Creating a probability hash for 4-way subsets\n",
      "Creating a probability hash for 5-way subsets\n",
      "Calculating for card= 5\n",
      "There are  173475 reads\n",
      "Creating a probability hash for 2-way subsets\n",
      "Creating a probability hash for 3-way subsets\n",
      "Creating a probability hash for 4-way subsets\n",
      "Calculating for card= 4\n",
      "There are  295052 reads\n",
      "Creating a probability hash for 2-way subsets\n",
      "Creating a probability hash for 3-way subsets\n",
      "Calculating for card= 3\n",
      "There are  107671 reads\n",
      "Creating a probability hash for 2-way subsets\n"
     ]
    }
   ],
   "source": [
    "probHash = makeAllReferenceHashDicts(keyCard,hpEdges,hpKeys_split)"
   ]
  },
  {
   "cell_type": "code",
   "execution_count": 26,
   "metadata": {},
   "outputs": [
    {
     "name": "stdout",
     "output_type": "stream",
     "text": [
      "Calculating for card= 9\n",
      "There are  4 reads\n",
      "Calculating stats for 4 reads\n",
      "Writing output\n",
      "Calculating for card= 8\n",
      "There are  182 reads\n",
      "Calculating stats for 182 reads\n",
      "Writing output\n",
      "Calculating for card= 7\n",
      "There are  3464 reads\n",
      "Calculating stats for 3464 reads\n",
      "Writing output\n",
      "Calculating for card= 6\n",
      "There are  35016 reads\n",
      "Calculating stats for 5000 reads\n",
      "Writing output\n",
      "Calculating for card= 5\n",
      "There are  173475 reads\n",
      "Calculating stats for 5000 reads\n",
      "Writing output\n",
      "Calculating for card= 4\n",
      "There are  295052 reads\n",
      "Calculating stats for 5000 reads\n",
      "Writing output\n",
      "Calculating for card= 3\n",
      "There are  107671 reads\n",
      "Calculating stats for 5000 reads\n",
      "Writing output\n"
     ]
    },
    {
     "data": {
      "text/plain": [
       "()"
      ]
     },
     "execution_count": 26,
     "metadata": {},
     "output_type": "execute_result"
    }
   ],
   "source": [
    "warnings.filterwarnings('ignore')\n",
    "statsForAllReads(keyCard,probHash,5000,False,False,1)"
   ]
  },
  {
   "cell_type": "code",
   "execution_count": null,
   "metadata": {},
   "outputs": [],
   "source": []
  }
 ],
 "metadata": {
  "kernelspec": {
   "display_name": "hypergraph_poreC",
   "language": "python",
   "name": "python3"
  },
  "language_info": {
   "codemirror_mode": {
    "name": "ipython",
    "version": 3
   },
   "file_extension": ".py",
   "mimetype": "text/x-python",
   "name": "python",
   "nbconvert_exporter": "python",
   "pygments_lexer": "ipython3",
   "version": "3.10.9"
  },
  "orig_nbformat": 4
 },
 "nbformat": 4,
 "nbformat_minor": 2
}
