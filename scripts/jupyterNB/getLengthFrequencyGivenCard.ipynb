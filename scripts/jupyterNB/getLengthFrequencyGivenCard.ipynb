{
 "cells": [
  {
   "cell_type": "code",
   "execution_count": 193,
   "metadata": {},
   "outputs": [],
   "source": [
    "import matplotlib.pyplot as plt\n",
    "import numpy as np\n",
    "import pandas as pd\n",
    "import random\n",
    "import pickle\n",
    "from collections import Counter"
   ]
  },
  {
   "cell_type": "code",
   "execution_count": 97,
   "metadata": {},
   "outputs": [],
   "source": [
    "## get intra-chromosomal genes\n",
    "\n",
    "dataDir = '/gpfs/commons/groups/gursoy_lab/ajoglekar/Projects/2023_03_01_multiwayInteractions/2023_03_01_v0_dataGathering/v1_poreC_explore/'\n",
    "chromSizes = pd.read_csv(f'{dataDir}hg38.chromSizes',sep=\"\\t\", names = ['chr','size']).set_index('chr')['size'].to_dict()\n",
    "readConcatemersWClosestGene = f'{dataDir}NlaIII_GM12878_output_byChr/NlaIII_GM12878_chr19.gz'\n",
    "colnames = [\"chr\",\"start\",\"end\",\"readID\",\"readLen\",\"readQual\",\n",
    "\"geneChr\",\"geneStart\",\"geneEnd\",\"strand\",\"geneID\",\"bioType\",\"geneName\",\"dist\",\"ID\"]\n",
    "\n",
    "fullBed = pd.read_csv(readConcatemersWClosestGene,sep = \"\\t\",names = colnames)"
   ]
  },
  {
   "cell_type": "code",
   "execution_count": 98,
   "metadata": {},
   "outputs": [
    {
     "data": {
      "text/plain": [
       "(9069080, 16)"
      ]
     },
     "execution_count": 98,
     "metadata": {},
     "output_type": "execute_result"
    }
   ],
   "source": [
    "chr19 = fullBed[fullBed['chr']==\"chr19\"]\n",
    "binSize = 5*10**5\n",
    "chrBins = [x for x in range(0,chromSizes['chr19']+binSize,binSize)]\n",
    "chr19_binned = pd.cut(chr19['start'],bins = chrBins, labels = [\"Bin_\"+str(i+1) for i in range(len(chrBins)-1)]).rename(\"binID\")\n",
    "chr19_wBinID = chr19.merge(chr19_binned,left_index=True,right_index=True)\n",
    "chr19_wBinID.shape"
   ]
  },
  {
   "cell_type": "code",
   "execution_count": 99,
   "metadata": {},
   "outputs": [
    {
     "data": {
      "text/plain": [
       "(686620, 16)"
      ]
     },
     "execution_count": 99,
     "metadata": {},
     "output_type": "execute_result"
    }
   ],
   "source": [
    "random.seed(100)\n",
    "randomReadIdx = random.sample(list(chr19_wBinID['ID']),200000)\n",
    "subsetDF = chr19_wBinID[chr19_wBinID['ID'].isin(randomReadIdx)]\n",
    "subsetDF.shape"
   ]
  },
  {
   "cell_type": "code",
   "execution_count": 100,
   "metadata": {},
   "outputs": [
    {
     "data": {
      "text/plain": [
       "(114, 194392)"
      ]
     },
     "execution_count": 100,
     "metadata": {},
     "output_type": "execute_result"
    }
   ],
   "source": [
    "chr19IncDF = pd.pivot_table(data=subsetDF[['ID', 'binID']], index='binID', columns='ID', aggfunc=lambda x: 1, fill_value=0)\n",
    "chr19IncDF.shape"
   ]
  },
  {
   "cell_type": "code",
   "execution_count": 187,
   "metadata": {},
   "outputs": [],
   "source": [
    "colSums_chr19IncDF = chr19IncDF.sum()\n",
    "intraChrom19 = chr19IncDF.loc[:, colSums_chr19IncDF >=2]"
   ]
  },
  {
   "cell_type": "code",
   "execution_count": 188,
   "metadata": {},
   "outputs": [],
   "source": [
    "def getCardProbs(incDF):\n",
    "    cardVec = incDF.sum()\n",
    "    cardFreq = Counter(cardVec)\n",
    "    total = sum(cardFreq.values())\n",
    "    probCard = {key: (value/total) for key, value in cardFreq.items()}\n",
    "    return(probCard)"
   ]
  },
  {
   "cell_type": "code",
   "execution_count": 162,
   "metadata": {},
   "outputs": [],
   "source": [
    "def getLenDistrPerCard(incDF,card):\n",
    "    readIx = incDF.columns[incDF.sum() == card]\n",
    "    concatemerLen = []\n",
    "    for ix in readIx:\n",
    "        binList = list(incDF[ix])\n",
    "        ixFirst = binList.index(1)\n",
    "        ixLast = (len(binList) - 1) - binList[::-1].index(1)    ## Index base 0\n",
    "        cL = ixLast - ixFirst + 1\n",
    "        concatemerLen.append(cL)   ## Difference w.r.t. base 0 gives 1 less so add\n",
    "    return(concatemerLen)"
   ]
  },
  {
   "cell_type": "code",
   "execution_count": 169,
   "metadata": {},
   "outputs": [],
   "source": [
    "def plotHistOfLenGivenCard(lenDist,card):\n",
    "    fig, ax = plt.subplots(figsize =(5, 4))\n",
    "    ax.hist(lenDist,density = True,bins = binSpecs)\n",
    "    plt.title(f\"Length | Card for c= {card}\")\n",
    "    plt.show()\n",
    "    return()"
   ]
  },
  {
   "cell_type": "code",
   "execution_count": 164,
   "metadata": {},
   "outputs": [],
   "source": [
    "def getFreqPerCard(lenDist):\n",
    "    lenCounts=Counter(lenDist)\n",
    "    #plotHistOfLenGivenCard(lenDist,card)\n",
    "    total = sum(lenCounts.values())\n",
    "    freqLen = {key: (value/total) for key, value in lenCounts.items()}\n",
    "    return(freqLen)"
   ]
  },
  {
   "cell_type": "code",
   "execution_count": 195,
   "metadata": {},
   "outputs": [],
   "source": [
    "cardProbs = getCardProbs(chr19IncDF)"
   ]
  },
  {
   "cell_type": "code",
   "execution_count": 198,
   "metadata": {},
   "outputs": [],
   "source": [
    "freqLenPerCard = dict()\n",
    "for card in cardProbs.keys():\n",
    "    lenDist = getLenDistrPerCard(chr19IncDF,card)\n",
    "    freqLen = getFreqPerCard(lenDist)\n",
    "    freqLenPerCard[card] = freqLen\n"
   ]
  },
  {
   "cell_type": "code",
   "execution_count": 196,
   "metadata": {},
   "outputs": [
    {
     "name": "stdout",
     "output_type": "stream",
     "text": [
      "0.4668504876743899\n",
      "0.21803880818140664\n",
      "0.1314405942631384\n"
     ]
    }
   ],
   "source": [
    "print(cardProbs[1])\n",
    "print(cardProbs[2])\n",
    "print(cardProbs[3])"
   ]
  },
  {
   "cell_type": "code",
   "execution_count": 192,
   "metadata": {},
   "outputs": [
    {
     "name": "stdout",
     "output_type": "stream",
     "text": [
      "0.1401902078196548\n",
      "0.05060467300692732\n",
      "0.037258815701929474\n",
      "0.03377558608273649\n"
     ]
    }
   ],
   "source": [
    "print(freqLenPerCard[3][3])\n",
    "print(freqLenPerCard[3][5])\n",
    "print(freqLenPerCard[3][6])\n",
    "print(freqLenPerCard[3][7])"
   ]
  },
  {
   "cell_type": "code",
   "execution_count": 200,
   "metadata": {},
   "outputs": [],
   "source": [
    "# Save nested dictionary to a pickle file\n",
    "with open(f'{dataDir}../v0_hypergraphSimulations/freqLensGivenCard.pkl', 'wb') as pickle_file:\n",
    "    pickle.dump(freqLenPerCard, pickle_file)"
   ]
  },
  {
   "cell_type": "code",
   "execution_count": null,
   "metadata": {},
   "outputs": [],
   "source": []
  }
 ],
 "metadata": {
  "kernelspec": {
   "display_name": "hypergraph_poreC",
   "language": "python",
   "name": "python3"
  },
  "language_info": {
   "codemirror_mode": {
    "name": "ipython",
    "version": 3
   },
   "file_extension": ".py",
   "mimetype": "text/x-python",
   "name": "python",
   "nbconvert_exporter": "python",
   "pygments_lexer": "ipython3",
   "version": "3.10.9"
  },
  "orig_nbformat": 4
 },
 "nbformat": 4,
 "nbformat_minor": 2
}
